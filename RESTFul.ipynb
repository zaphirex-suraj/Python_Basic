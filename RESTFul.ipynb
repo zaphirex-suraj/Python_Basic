{
  "nbformat": 4,
  "nbformat_minor": 0,
  "metadata": {
    "colab": {
      "provenance": []
    },
    "kernelspec": {
      "name": "python3",
      "display_name": "Python 3"
    },
    "language_info": {
      "name": "python"
    }
  },
  "cells": [
    {
      "cell_type": "markdown",
      "source": [
        "# Asssignment Solutions on Rest API & Flask- Theoritical Questions\n",
        "\n",
        "1. What is a RESTful API?\n",
        "- A RESTful API is a way for different systems to communicate over the internet using the HTTP protocol. REST stands for Representational State Transfer. REST APIs follow certain principles like statelessness, use of standard HTTP methods (GET, POST, etc.), and structured responses usually in JSON or XML format.\n",
        "\n",
        ">>In simple words, it’s a system that lets two applications talk to each other – for example, your app talking to a weather service to get temperature data.\n",
        "\n",
        "2. Explain the concept of API specification.\n",
        "- An API specification is like a guidebook or blueprint that tells us how the API will behave. It defines:\n",
        "\n",
        "- What endpoints are available\n",
        "\n",
        "- What parameters to pass\n",
        "\n",
        "- What response format to expect\n",
        "\n",
        "- Which HTTP methods to use\n",
        "\n",
        ">> Tools like OpenAPI (Swagger) are used to write API specifications. It helps developers understand how to use or build the API.\n",
        "\n",
        "3. What is Flask, and why is it popular for building APIs?\n",
        "- Flask is a lightweight web framework in Python that makes it easy to create web applications and APIs. It’s popular because:\n",
        "\n",
        "- It’s simple and minimal\n",
        "\n",
        "- Easy to learn for beginners\n",
        "\n",
        "- Offers flexibility and extensions\n",
        "\n",
        "- Great for small to medium-sized projects\n",
        "\n",
        ">>Since Flask doesn’t force a particular project structure, developers have more control.\n",
        "\n",
        "4. What is routing in Flask?\n",
        "\n",
        "- Routing means deciding what should happen when a user goes to a specific URL.\n",
        "\n",
        "- In Flask, we use the @app.route() decorator to create routes. For example:"
      ],
      "metadata": {
        "id": "sVes2OnWmtkK"
      }
    },
    {
      "cell_type": "code",
      "source": [
        "from flask import Flask\n",
        "\n",
        "app = Flask(__name__)\n",
        "\n",
        "@app.route('/hello')\n",
        "def hello():\n",
        "    return \"Hello from Flask!\"\n"
      ],
      "metadata": {
        "id": "Xtkad2xctoYF"
      },
      "execution_count": null,
      "outputs": []
    },
    {
      "cell_type": "markdown",
      "source": [
        "Here, when a user visits /hello, the hello() function will be executed."
      ],
      "metadata": {
        "id": "DIXBy8Dqt0FS"
      }
    },
    {
      "cell_type": "markdown",
      "source": [
        "5. How do you create a simple Flask application?\n",
        "- To create a basic Flask application, we first need to install Flask. Since I am using Google Colab for this assignment, and Flask apps don’t run normally in Colab like they do on local machines, I used the flask-ngrok package. It helps us run Flask inside Colab by giving a temporary web link using ngrok."
      ],
      "metadata": {
        "id": "LIeNjTicuLwX"
      }
    },
    {
      "cell_type": "code",
      "source": [
        "!pip install flask-ngrok\n",
        "\n",
        "from flask import Flask\n",
        "from flask_ngrok import run_with_ngrok\n",
        "\n",
        "app = Flask(__name__)\n",
        "run_with_ngrok(app)  # This line makes Flask run with ngrok in Colab\n",
        "\n",
        "@app.route('/')\n",
        "def home():\n",
        "    return \"Welcome to my first Flask App (Colab version)!\"\n",
        "\n",
        "if __name__ == '__main__':\n",
        "    app.run()\n",
        "\n"
      ],
      "metadata": {
        "colab": {
          "base_uri": "https://localhost:8080/"
        },
        "collapsed": true,
        "id": "7hOjgnaeuP1F",
        "outputId": "bcbb69e3-ca8e-4184-a6df-9be989637f92"
      },
      "execution_count": null,
      "outputs": [
        {
          "metadata": {
            "tags": null
          },
          "name": "stdout",
          "output_type": "stream",
          "text": [
            "Collecting flask-ngrok\n",
            "  Downloading flask_ngrok-0.0.25-py3-none-any.whl.metadata (1.8 kB)\n",
            "Requirement already satisfied: Flask>=0.8 in /usr/local/lib/python3.11/dist-packages (from flask-ngrok) (3.1.1)\n",
            "Requirement already satisfied: requests in /usr/local/lib/python3.11/dist-packages (from flask-ngrok) (2.32.3)\n",
            "Requirement already satisfied: blinker>=1.9.0 in /usr/local/lib/python3.11/dist-packages (from Flask>=0.8->flask-ngrok) (1.9.0)\n",
            "Requirement already satisfied: click>=8.1.3 in /usr/local/lib/python3.11/dist-packages (from Flask>=0.8->flask-ngrok) (8.2.1)\n",
            "Requirement already satisfied: itsdangerous>=2.2.0 in /usr/local/lib/python3.11/dist-packages (from Flask>=0.8->flask-ngrok) (2.2.0)\n",
            "Requirement already satisfied: jinja2>=3.1.2 in /usr/local/lib/python3.11/dist-packages (from Flask>=0.8->flask-ngrok) (3.1.6)\n",
            "Requirement already satisfied: markupsafe>=2.1.1 in /usr/local/lib/python3.11/dist-packages (from Flask>=0.8->flask-ngrok) (3.0.2)\n",
            "Requirement already satisfied: werkzeug>=3.1.0 in /usr/local/lib/python3.11/dist-packages (from Flask>=0.8->flask-ngrok) (3.1.3)\n",
            "Requirement already satisfied: charset-normalizer<4,>=2 in /usr/local/lib/python3.11/dist-packages (from requests->flask-ngrok) (3.4.2)\n",
            "Requirement already satisfied: idna<4,>=2.5 in /usr/local/lib/python3.11/dist-packages (from requests->flask-ngrok) (3.10)\n",
            "Requirement already satisfied: urllib3<3,>=1.21.1 in /usr/local/lib/python3.11/dist-packages (from requests->flask-ngrok) (2.5.0)\n",
            "Requirement already satisfied: certifi>=2017.4.17 in /usr/local/lib/python3.11/dist-packages (from requests->flask-ngrok) (2025.7.14)\n",
            "Downloading flask_ngrok-0.0.25-py3-none-any.whl (3.1 kB)\n",
            "Installing collected packages: flask-ngrok\n",
            "Successfully installed flask-ngrok-0.0.25\n",
            " * Serving Flask app '__main__'\n",
            " * Debug mode: off\n"
          ]
        },
        {
          "metadata": {
            "tags": null
          },
          "name": "stderr",
          "output_type": "stream",
          "text": [
            "INFO:werkzeug:\u001b[31m\u001b[1mWARNING: This is a development server. Do not use it in a production deployment. Use a production WSGI server instead.\u001b[0m\n",
            " * Running on http://127.0.0.1:5000\n",
            "INFO:werkzeug:\u001b[33mPress CTRL+C to quit\u001b[0m\n",
            "Exception in thread Thread-8:\n",
            "Traceback (most recent call last):\n",
            "  File \"/usr/local/lib/python3.11/dist-packages/urllib3/connection.py\", line 198, in _new_conn\n",
            "    sock = connection.create_connection(\n",
            "           ^^^^^^^^^^^^^^^^^^^^^^^^^^^^^\n",
            "  File \"/usr/local/lib/python3.11/dist-packages/urllib3/util/connection.py\", line 85, in create_connection\n",
            "    raise err\n",
            "  File \"/usr/local/lib/python3.11/dist-packages/urllib3/util/connection.py\", line 73, in create_connection\n",
            "    sock.connect(sa)\n",
            "ConnectionRefusedError: [Errno 111] Connection refused\n",
            "\n",
            "The above exception was the direct cause of the following exception:\n",
            "\n",
            "Traceback (most recent call last):\n",
            "  File \"/usr/local/lib/python3.11/dist-packages/urllib3/connectionpool.py\", line 787, in urlopen\n",
            "    response = self._make_request(\n",
            "               ^^^^^^^^^^^^^^^^^^^\n",
            "  File \"/usr/local/lib/python3.11/dist-packages/urllib3/connectionpool.py\", line 493, in _make_request\n",
            "    conn.request(\n",
            "  File \"/usr/local/lib/python3.11/dist-packages/urllib3/connection.py\", line 494, in request\n",
            "    self.endheaders()\n",
            "  File \"/usr/lib/python3.11/http/client.py\", line 1298, in endheaders\n",
            "    self._send_output(message_body, encode_chunked=encode_chunked)\n",
            "  File \"/usr/lib/python3.11/http/client.py\", line 1058, in _send_output\n",
            "    self.send(msg)\n",
            "  File \"/usr/lib/python3.11/http/client.py\", line 996, in send\n",
            "    self.connect()\n",
            "  File \"/usr/local/lib/python3.11/dist-packages/urllib3/connection.py\", line 325, in connect\n",
            "    self.sock = self._new_conn()\n",
            "                ^^^^^^^^^^^^^^^^\n",
            "  File \"/usr/local/lib/python3.11/dist-packages/urllib3/connection.py\", line 213, in _new_conn\n",
            "    raise NewConnectionError(\n",
            "urllib3.exceptions.NewConnectionError: <urllib3.connection.HTTPConnection object at 0x7c77a96d7550>: Failed to establish a new connection: [Errno 111] Connection refused\n",
            "\n",
            "The above exception was the direct cause of the following exception:\n",
            "\n",
            "Traceback (most recent call last):\n",
            "  File \"/usr/local/lib/python3.11/dist-packages/requests/adapters.py\", line 667, in send\n",
            "    resp = conn.urlopen(\n",
            "           ^^^^^^^^^^^^^\n",
            "  File \"/usr/local/lib/python3.11/dist-packages/urllib3/connectionpool.py\", line 841, in urlopen\n",
            "    retries = retries.increment(\n",
            "              ^^^^^^^^^^^^^^^^^^\n",
            "  File \"/usr/local/lib/python3.11/dist-packages/urllib3/util/retry.py\", line 519, in increment\n",
            "    raise MaxRetryError(_pool, url, reason) from reason  # type: ignore[arg-type]\n",
            "    ^^^^^^^^^^^^^^^^^^^^^^^^^^^^^^^^^^^^^^^^^^^^^^^^^^^\n",
            "urllib3.exceptions.MaxRetryError: HTTPConnectionPool(host='localhost', port=4040): Max retries exceeded with url: /api/tunnels (Caused by NewConnectionError('<urllib3.connection.HTTPConnection object at 0x7c77a96d7550>: Failed to establish a new connection: [Errno 111] Connection refused'))\n",
            "\n",
            "During handling of the above exception, another exception occurred:\n",
            "\n",
            "Traceback (most recent call last):\n",
            "  File \"/usr/lib/python3.11/threading.py\", line 1045, in _bootstrap_inner\n",
            "    self.run()\n",
            "  File \"/usr/lib/python3.11/threading.py\", line 1401, in run\n",
            "    self.function(*self.args, **self.kwargs)\n",
            "  File \"/usr/local/lib/python3.11/dist-packages/flask_ngrok.py\", line 70, in start_ngrok\n",
            "    ngrok_address = _run_ngrok()\n",
            "                    ^^^^^^^^^^^^\n",
            "  File \"/usr/local/lib/python3.11/dist-packages/flask_ngrok.py\", line 35, in _run_ngrok\n",
            "    tunnel_url = requests.get(localhost_url).text  # Get the tunnel information\n",
            "                 ^^^^^^^^^^^^^^^^^^^^^^^^^^^\n",
            "  File \"/usr/local/lib/python3.11/dist-packages/requests/api.py\", line 73, in get\n",
            "    return request(\"get\", url, params=params, **kwargs)\n",
            "           ^^^^^^^^^^^^^^^^^^^^^^^^^^^^^^^^^^^^^^^^^^^^\n",
            "  File \"/usr/local/lib/python3.11/dist-packages/requests/api.py\", line 59, in request\n",
            "    return session.request(method=method, url=url, **kwargs)\n",
            "           ^^^^^^^^^^^^^^^^^^^^^^^^^^^^^^^^^^^^^^^^^^^^^^^^^\n",
            "  File \"/usr/local/lib/python3.11/dist-packages/requests/sessions.py\", line 589, in request\n",
            "    resp = self.send(prep, **send_kwargs)\n",
            "           ^^^^^^^^^^^^^^^^^^^^^^^^^^^^^^\n",
            "  File \"/usr/local/lib/python3.11/dist-packages/requests/sessions.py\", line 703, in send\n",
            "    r = adapter.send(request, **kwargs)\n",
            "        ^^^^^^^^^^^^^^^^^^^^^^^^^^^^^^^\n",
            "  File \"/usr/local/lib/python3.11/dist-packages/requests/adapters.py\", line 700, in send\n",
            "    raise ConnectionError(e, request=request)\n",
            "requests.exceptions.ConnectionError: HTTPConnectionPool(host='localhost', port=4040): Max retries exceeded with url: /api/tunnels (Caused by NewConnectionError('<urllib3.connection.HTTPConnection object at 0x7c77a96d7550>: Failed to establish a new connection: [Errno 111] Connection refused'))\n"
          ]
        }
      ]
    },
    {
      "cell_type": "markdown",
      "source": [
        "6. What are HTTP methods used in RESTful APIs?\n",
        "\n",
        "- RESTful APIs commonly use the following HTTP methods:\n",
        "\n",
        "- GET – To read or fetch data\n",
        "\n",
        "- POST – To create new data\n",
        "\n",
        "- PUT – To update existing data completely\n",
        "\n",
        "- PATCH – To update partially\n",
        "\n",
        "- DELETE – To remove data\n",
        "\n",
        ">>Each method has a specific purpose in the CRUD operations."
      ],
      "metadata": {
        "id": "m1qirpvSvuML"
      }
    },
    {
      "cell_type": "markdown",
      "source": [
        "7. What is the purpose of the @app.route() decorator in Flask?\n",
        "- The @app.route() decorator in Flask maps a URL path to a specific Python function.\n",
        "\n",
        "Example:\n",
        "\n"
      ],
      "metadata": {
        "id": "zieAOt21wL3G"
      }
    },
    {
      "cell_type": "code",
      "source": [
        "@app.route('/about')\n",
        "def about():\n",
        "    return \"About page\"\n"
      ],
      "metadata": {
        "id": "9wp18mRawTIb"
      },
      "execution_count": null,
      "outputs": []
    },
    {
      "cell_type": "markdown",
      "source": [
        "When a user visits /about, the about() function will be executed and its return value shown.\n",
        "\n",
        "8. What is the difference between GET and POST HTTP methods?\n",
        "\n",
        "| GET                           | POST                                |\n",
        "| ----------------------------- | ----------------------------------- |\n",
        "| Used to **fetch** data        | Used to **send** or **create** data |\n",
        "| Parameters appear in the URL  | Parameters are in the request body  |\n",
        "| Not secure for sensitive data | More secure for forms and passwords |\n",
        "| Can be bookmarked             | Cannot be bookmarked                |\n",
        "\n",
        "\n",
        "Example:"
      ],
      "metadata": {
        "id": "b0EnX51jwcIr"
      }
    },
    {
      "cell_type": "code",
      "source": [
        "@app.route('/data', methods=['GET'])\n",
        "def get_data():\n",
        "    return \"This is GET\"\n",
        "\n",
        "@app.route('/data', methods=['POST'])\n",
        "def post_data():\n",
        "    return \"This is POST\""
      ],
      "metadata": {
        "id": "DK9Yh17GxKYU"
      },
      "execution_count": null,
      "outputs": []
    },
    {
      "cell_type": "markdown",
      "source": [
        "9. How do you handle errors in Flask APIs?\n",
        "- Flask provides the @app.errorhandler() decorator to handle errors. You can create custom error messages for different error codes.\n",
        "\n",
        "Example:"
      ],
      "metadata": {
        "id": "apeBmbQWyxSy"
      }
    },
    {
      "cell_type": "code",
      "source": [
        "@app.errorhandler(404)\n",
        "def not_found(error):\n",
        "    return \"Oops! Page not found.\", 404\n"
      ],
      "metadata": {
        "id": "91z4ZTzdy6yl"
      },
      "execution_count": null,
      "outputs": []
    },
    {
      "cell_type": "markdown",
      "source": [
        "You can also handle errors like bad requests, internal server errors, etc.\n",
        "10. How do you connect Flask to a SQL database?\n",
        "\n",
        "- You can connect Flask to a SQL database using Flask-SQLAlchemy, which is an ORM (Object Relational Mapper).\n",
        "\n",
        ">>Steps:\n",
        "\n",
        "- Install the package:\n",
        "- pip install flask_sqlalchemy\n",
        "\n",
        "Code Example:"
      ],
      "metadata": {
        "id": "2CPwTHdgzEhu"
      }
    },
    {
      "cell_type": "code",
      "source": [
        "from flask import Flask\n",
        "from flask_sqlalchemy import SQLAlchemy\n",
        "\n",
        "app = Flask(__name__)\n",
        "app.config['SQLALCHEMY_DATABASE_URI'] = 'sqlite:///students.db'\n",
        "db = SQLAlchemy(app)\n",
        "\n",
        "class Student(db.Model):\n",
        "    id = db.Column(db.Integer, primary_key=True)\n",
        "    name = db.Column(db.String(50))\n",
        "\n",
        "with app.app_context():\n",
        "    db.create_all()\n"
      ],
      "metadata": {
        "id": "YNNVRChvzbES"
      },
      "execution_count": null,
      "outputs": []
    },
    {
      "cell_type": "markdown",
      "source": [
        "This creates a SQLite database with a Student table.\n",
        "\n",
        "11. What is the role of Flask-SQLAlchemy?\n",
        "\n",
        "- Flask-SQLAlchemy is an extension that helps us connect Flask with a SQL database like SQLite, MySQL, etc. It uses SQLAlchemy, which is a powerful ORM (Object Relational Mapper). Instead of writing raw SQL queries, we can work with Python classes and objects.\n",
        "\n",
        ">>Example:"
      ],
      "metadata": {
        "id": "RyVnYhoc0PyM"
      }
    },
    {
      "cell_type": "code",
      "source": [
        "from flask_sqlalchemy import SQLAlchemy\n",
        "db = SQLAlchemy(app)\n"
      ],
      "metadata": {
        "id": "hELaRgEK0poy"
      },
      "execution_count": null,
      "outputs": []
    },
    {
      "cell_type": "markdown",
      "source": [
        "With this, we can easily create tables and interact with databases in an object-oriented way.\n",
        "\n",
        "12. What are Flask blueprints, and how are they useful?\n",
        "\n",
        "- Flask Blueprints help us organize large Flask apps into smaller parts or modules. Instead of writing everything in one file, we divide the app using blueprints.\n",
        "\n",
        ">> It’s like creating sections for different features — such as auth, admin, or user.\n",
        "\n",
        ">>Why useful:\n",
        "\n",
        "- Keeps code clean and maintainable\n",
        "\n",
        "- Makes teamwork easier\n",
        "\n",
        "- Reusable components\n",
        "\n",
        "13. What is the purpose of Flask's request object?\n",
        "\n",
        "- Flask’s request object helps us access incoming request data. For example, when someone submits a form or sends JSON data to our API, we can access it using:"
      ],
      "metadata": {
        "id": "6rI97mS40yJa"
      }
    },
    {
      "cell_type": "code",
      "source": [
        "from flask import request\n",
        "\n",
        "data = request.form['name']  # For form data\n"
      ],
      "metadata": {
        "id": "6esJ1xoD2xHS"
      },
      "execution_count": null,
      "outputs": []
    },
    {
      "cell_type": "markdown",
      "source": [
        "It also supports request.args (for query parameters), request.json, request.method, etc.\n",
        "\n",
        "14. How do you create a RESTful API endpoint using Flask?\n",
        "- We can create RESTful endpoints using Flask by defining a route with HTTP methods.\n",
        "\n",
        "Example:"
      ],
      "metadata": {
        "id": "ZcREufMH24Fu"
      }
    },
    {
      "cell_type": "code",
      "source": [
        "from flask import Flask, request, jsonify\n",
        "\n",
        "app = Flask(__name__)\n",
        "\n",
        "@app.route('/api/data', methods=['GET'])\n",
        "def get_data():\n",
        "    return jsonify({\"message\": \"Data fetched successfully\"})\n"
      ],
      "metadata": {
        "id": "P4rda_iR3f-P"
      },
      "execution_count": null,
      "outputs": []
    },
    {
      "cell_type": "markdown",
      "source": [
        "15. What is the purpose of Flask's jsonify() function?\n",
        "\n",
        "- The jsonify() function is used to convert Python data (like dicts or lists) into a JSON response, which is the standard format for APIs.\n",
        "\n",
        "Example:"
      ],
      "metadata": {
        "id": "Ca1R0hEs3ylH"
      }
    },
    {
      "cell_type": "code",
      "source": [
        "from flask import jsonify\n",
        "\n",
        "data = {\"name\": \"Suraj\", \"age\": 28}\n",
        "return jsonify(data)\n"
      ],
      "metadata": {
        "id": "qytLx66y4Ok_"
      },
      "execution_count": null,
      "outputs": []
    },
    {
      "cell_type": "markdown",
      "source": [
        "This will return a proper JSON response:\n",
        "{\"name\": \"Suraj\", \"age\": 28}\n",
        "\n",
        "16. Explain Flask's url_for() function.\n",
        "\n",
        "- The url_for() function dynamically generates the URL for a given function name. Instead of hardcoding URLs, we use url_for() so the app is more flexible and avoids errors.\n",
        "\n",
        "Example:\n",
        "\n"
      ],
      "metadata": {
        "id": "x3SslGcK4YHB"
      }
    },
    {
      "cell_type": "code",
      "source": [
        "@app.route('/profile')\n",
        "def profile():\n",
        "    return \"User Profile\"\n",
        "\n",
        "url_for('profile')  # Returns \"/profile\"\n"
      ],
      "metadata": {
        "id": "EbdzbI6b4mcg"
      },
      "execution_count": null,
      "outputs": []
    },
    {
      "cell_type": "markdown",
      "source": [
        "17. How does Flask handle static files (CSS, JavaScript, etc.)?\n",
        "\n",
        "- Flask automatically looks for static files in the static/ folder. To use them in HTML, we refer them using the url_for('static', filename='...') method.\n",
        "\n",
        "Example HTML:\n",
        "\n",
        "<link rel=\"stylesheet\" href=\"{{ url_for('static', filename='style.css') }}\">\n",
        "\n",
        "Put my CSS, JS, or image files inside the static folder.\n",
        "\n",
        "18. What is an API specification, and how does it help in building a Flask API?\n",
        "- An API specification defines how the API behaves:\n",
        "\n",
        "- What routes/endpoints exist\n",
        "\n",
        "- What input is expected\n",
        "\n",
        "-What output will be returned\n",
        "\n",
        "- What methods (GET, POST, etc.) are used\n",
        "\n",
        ">>It helps in:\n",
        "\n",
        "- Planning the API\n",
        "\n",
        "- Avoiding confusion between backend/frontend teams\n",
        "\n",
        "- Writing clean documentation\n",
        "\n",
        "- Tools like Swagger/OpenAPI help define specifications clearly."
      ],
      "metadata": {
        "id": "3Sb9A2xC4svs"
      }
    },
    {
      "cell_type": "markdown",
      "source": [
        "\n",
        "19. What are HTTP status codes, and why are they important in a Flask API?\n",
        "- HTTP status codes tell us whether a request was successful or failed.\n",
        "\n",
        "Some common codes:\n",
        "\n",
        "- 200 – OK (Success)\n",
        "\n",
        "- 201 – Created (for POST)\n",
        "\n",
        "- 400 – Bad Request\n",
        "\n",
        "- 404 – Not Found\n",
        "\n",
        "- 500 – Server Error\n",
        "\n",
        "In Flask:\n",
        "\n",
        "\n"
      ],
      "metadata": {
        "id": "q2r0K7tk5nvZ"
      }
    },
    {
      "cell_type": "code",
      "source": [
        "return jsonify({\"message\": \"Not Found\"}), 404\n"
      ],
      "metadata": {
        "id": "j05C6sZC6qEq"
      },
      "execution_count": null,
      "outputs": []
    },
    {
      "cell_type": "markdown",
      "source": [
        "Status codes improve API communication and debugging."
      ],
      "metadata": {
        "id": "NkRFPK836wkN"
      }
    },
    {
      "cell_type": "markdown",
      "source": [
        "20. How do you handle POST requests in Flask?\n",
        "- To handle a POST request, we use methods=['POST'] in the route, and then extract data using request.form or request.json.\n",
        "\n",
        "Example:\n",
        "\n",
        "\n"
      ],
      "metadata": {
        "id": "84-0qWG367ud"
      }
    },
    {
      "cell_type": "code",
      "source": [
        "from flask import Flask, request, jsonify\n",
        "\n",
        "app = Flask(__name__)\n",
        "\n",
        "@app.route('/submit', methods=['POST'])\n",
        "def submit():\n",
        "    data = request.json\n",
        "    name = data.get('name')\n",
        "    return jsonify({\"message\": f\"Hello {name}!\"})\n"
      ],
      "metadata": {
        "id": "JVrElU6a7LA-"
      },
      "execution_count": null,
      "outputs": []
    },
    {
      "cell_type": "markdown",
      "source": [
        "This code reads JSON data sent in a POST request and returns a custom response.\n",
        "\n",
        "21. How would you secure a Flask API?\n",
        ">>Securing a Flask API is important to prevent unauthorized access or misuse of data. Here are some common ways to secure it:\n",
        "\n",
        "- Authentication: Make sure only authorized users can access certain endpoints. Use token-based systems like JWT (JSON Web Token) or API keys.\n",
        "\n",
        "- Authorization: Control what different users can access or modify.\n",
        "\n",
        "- HTTPS: Run the app over HTTPS instead of HTTP to keep data encrypted during transfer.\n",
        "\n",
        "- Input validation: Always check user inputs to prevent injection attacks.\n",
        "\n",
        "- CORS management: Use Flask-CORS to control which frontend domains can access the API.\n",
        "\n",
        "- Rate limiting: Prevent abuse by limiting the number of requests a user can make.\n",
        "\n",
        "Example (JWT simplified):\n"
      ],
      "metadata": {
        "id": "YUR0a-MP7d7_"
      }
    },
    {
      "cell_type": "code",
      "source": [
        "# Check for token in headers before allowing access\n",
        "token = request.headers.get('Authorization')\n",
        "if not token:\n",
        "    return jsonify({\"error\": \"Unauthorized\"}), 401\n"
      ],
      "metadata": {
        "id": "Won972SU8KGD"
      },
      "execution_count": null,
      "outputs": []
    },
    {
      "cell_type": "markdown",
      "source": [
        "22. What is the significance of the Flask-RESTful extension?\n",
        ">>Flask-RESTful is an extension that helps us build REST APIs quickly and neatly in Flask. It provides tools that make our code cleaner and better organized.\n",
        "\n",
        "Benefits:\n",
        "\n",
        "- Makes it easier to manage HTTP methods like GET, POST, PUT, DELETE\n",
        "\n",
        "- Encourages class-based APIs (like Resource classes)\n",
        "\n",
        "- Supports input parsing and error handling\n",
        "\n",
        "- Example:"
      ],
      "metadata": {
        "id": "L6I8hYso_k2S"
      }
    },
    {
      "cell_type": "code",
      "source": [
        "from flask_restful import Resource\n",
        "\n",
        "class Hello(Resource):\n",
        "    def get(self):\n",
        "        return {\"message\": \"Hello from RESTful API\"}\n"
      ],
      "metadata": {
        "id": "vkLkS4E5_zWc"
      },
      "execution_count": null,
      "outputs": []
    },
    {
      "cell_type": "markdown",
      "source": [
        "In short, it makes building APIs more efficient and professional.\n",
        "\n",
        "23. What is the role of Flask's session object?\n",
        "\n",
        ">>The session object in Flask is used to store user-specific data temporarily — like login status or user preferences — across multiple requests. It uses cookies under the hood but keeps the data secure with encryption.\n",
        "\n",
        "Why it’s useful:\n",
        "\n",
        "- Helps in login systems\n",
        "\n",
        "- Tracks user activity (like cart items in a shopping site)\n",
        "\n",
        "Example:\n",
        "\n",
        "\n"
      ],
      "metadata": {
        "id": "S9NAc2Sm_2FM"
      }
    },
    {
      "cell_type": "code",
      "source": [
        "from flask import session\n",
        "\n",
        "# Set session data\n",
        "session['username'] = 'Suraj'\n",
        "\n",
        "# Get session data\n",
        "user = session.get('username')\n"
      ],
      "metadata": {
        "id": "bVukljm4AMn3"
      },
      "execution_count": null,
      "outputs": []
    },
    {
      "cell_type": "markdown",
      "source": [
        "To use sessions, we must set a SECRET_KEY in the Flask app for security.\n",
        "\n",
        "# Practical Questions Solutions\n",
        "\n",
        "1. How do you create a basic Flask application?\n",
        "\n",
        "- To create a basic Flask app, you first need to install Flask using pip install flask. Then create a file (say app.py) with the following code:"
      ],
      "metadata": {
        "id": "Lqwz-UnTAbiY"
      }
    },
    {
      "cell_type": "code",
      "source": [
        "from flask import Flask\n",
        "\n",
        "app = Flask(__name__)\n",
        "\n",
        "@app.route('/')\n",
        "def home():\n",
        "    return \"Hello, Flask!\"\n",
        "\n",
        "if __name__ == '__main__':\n",
        "    app.run(debug=True)\n"
      ],
      "metadata": {
        "colab": {
          "base_uri": "https://localhost:8080/"
        },
        "id": "nmnrFkWrFrJ3",
        "outputId": "02ee0f7e-981c-47c1-a1a1-a84a5425faa0"
      },
      "execution_count": null,
      "outputs": [
        {
          "output_type": "stream",
          "name": "stdout",
          "text": [
            " * Serving Flask app '__main__'\n",
            " * Debug mode: on\n"
          ]
        },
        {
          "output_type": "stream",
          "name": "stderr",
          "text": [
            "INFO:werkzeug:\u001b[31m\u001b[1mWARNING: This is a development server. Do not use it in a production deployment. Use a production WSGI server instead.\u001b[0m\n",
            " * Running on http://127.0.0.1:5000\n",
            "INFO:werkzeug:\u001b[33mPress CTRL+C to quit\u001b[0m\n",
            "INFO:werkzeug: * Restarting with stat\n"
          ]
        }
      ]
    },
    {
      "cell_type": "markdown",
      "source": [
        "2. How do you serve static files like images or CSS in Flask?\n",
        "- Flask automatically serves static files placed inside a folder called static. For example:\n",
        "\n",
        "Folder structure:"
      ],
      "metadata": {
        "id": "cEa73uFUFym4"
      }
    },
    {
      "cell_type": "code",
      "source": [
        "/static/css/style.css\n",
        "/static/images/logo.png\n"
      ],
      "metadata": {
        "id": "f0KoqKhsF7ny"
      },
      "execution_count": null,
      "outputs": []
    },
    {
      "cell_type": "markdown",
      "source": [
        "In HTML:\n",
        "<link rel=\"stylesheet\" href=\"{{ url_for('static', filename='css/style.css') }}\">\n",
        "<img src=\"{{ url_for('static', filename='images/logo.png') }}\" alt=\"Logo\">\n",
        "\n",
        "\n",
        "3. How do you define different routes with different HTTP methods in Flask?\n",
        "- We can specify HTTP methods using the methods argument in the route decorator:"
      ],
      "metadata": {
        "id": "0V-BCk7dF9BT"
      }
    },
    {
      "cell_type": "code",
      "source": [
        "@app.route('/submit', methods=['GET', 'POST'])\n",
        "def submit():\n",
        "    if request.method == 'POST':\n",
        "        return \"Data submitted\"\n",
        "    else:\n",
        "        return \"Send the data using POST\"\n"
      ],
      "metadata": {
        "id": "IUG81QIxGWVQ"
      },
      "execution_count": null,
      "outputs": []
    },
    {
      "cell_type": "markdown",
      "source": [
        "4. How do you render HTML templates in Flask?\n",
        "\n",
        "- Templates are kept in a folder named templates. To render them, use render_template()."
      ],
      "metadata": {
        "id": "4wqYPSL0Gfhr"
      }
    },
    {
      "cell_type": "code",
      "source": [
        "from flask import render_template\n",
        "\n",
        "@app.route('/')\n",
        "def index():\n",
        "    return render_template('index.html')\n"
      ],
      "metadata": {
        "id": "M1Ba91yXGl0v"
      },
      "execution_count": null,
      "outputs": []
    },
    {
      "cell_type": "markdown",
      "source": [
        "Making sure index.html is in the templates folder.\n",
        "\n",
        "5. How can you generate URLs for routes in Flask using url_for?\n",
        "- url_for helps generate URLs dynamically:"
      ],
      "metadata": {
        "id": "GiTwOI6SGnzU"
      }
    },
    {
      "cell_type": "code",
      "source": [
        "@app.route('/about')\n",
        "def about():\n",
        "    return \"About Page\"\n",
        "\n",
        "# Usage in Python:\n",
        "url_for('about')  # Output: /about\n",
        "\n",
        "# Usage in HTML:\n",
        "<a href=\"{{ url_for('about') }}\">Go to About</a>\n"
      ],
      "metadata": {
        "id": "cUgcIukiG0ZG"
      },
      "execution_count": null,
      "outputs": []
    },
    {
      "cell_type": "markdown",
      "source": [
        "6. How do you handle forms in Flask?\n",
        "- We can use the request object to handle form data:"
      ],
      "metadata": {
        "id": "iqQdauXdG2XO"
      }
    },
    {
      "cell_type": "code",
      "source": [
        "from flask import request\n",
        "\n",
        "@app.route('/form', methods=['GET', 'POST'])\n",
        "def form():\n",
        "    if request.method == 'POST':\n",
        "        name = request.form['name']\n",
        "        return f\"Hello, {name}!\"\n",
        "    return '''\n",
        "        <form method=\"POST\">\n",
        "            <input name=\"name\">\n",
        "            <input type=\"submit\">\n",
        "        </form>\n",
        "    '''\n"
      ],
      "metadata": {
        "id": "BqVr2ERaG_kG"
      },
      "execution_count": null,
      "outputs": []
    },
    {
      "cell_type": "markdown",
      "source": [
        "7. How can you validate form data in Flask?\n",
        "\n",
        "- Basic validation can be done manually, or you can use Flask-WTF:"
      ],
      "metadata": {
        "id": "jTclOefKHDW3"
      }
    },
    {
      "cell_type": "code",
      "source": [
        "@app.route('/form', methods=['POST'])\n",
        "def form():\n",
        "    name = request.form.get('name')\n",
        "    if not name:\n",
        "        return \"Name is required\"\n",
        "    return f\"Welcome, {name}\"\n"
      ],
      "metadata": {
        "id": "GG3xY5KZHIs5"
      },
      "execution_count": null,
      "outputs": []
    },
    {
      "cell_type": "markdown",
      "source": [
        "8. How do you manage sessions in Flask?\n",
        "\n",
        "-Sessions let you store user-specific data:"
      ],
      "metadata": {
        "id": "RPaMfV4PHMlz"
      }
    },
    {
      "cell_type": "code",
      "source": [
        "from flask import session\n",
        "\n",
        "app.secret_key = 'your_secret_key'\n",
        "\n",
        "@app.route('/login')\n",
        "def login():\n",
        "    session['user'] = 'Suraj'\n",
        "    return \"User logged in\"\n",
        "\n",
        "@app.route('/profile')\n",
        "def profile():\n",
        "    user = session.get('user')\n",
        "    return f\"Welcome {user}\"\n"
      ],
      "metadata": {
        "id": "NYANQscJHRu7"
      },
      "execution_count": null,
      "outputs": []
    },
    {
      "cell_type": "markdown",
      "source": [
        "9. How do you redirect to a different route in Flask?\n",
        "- Use redirect() along with url_for():"
      ],
      "metadata": {
        "id": "zQ47cpgCHUkj"
      }
    },
    {
      "cell_type": "code",
      "source": [
        "from flask import redirect, url_for\n",
        "\n",
        "@app.route('/go')\n",
        "def go():\n",
        "    return redirect(url_for('home'))\n"
      ],
      "metadata": {
        "id": "0MmVtMIvHcGH"
      },
      "execution_count": null,
      "outputs": []
    },
    {
      "cell_type": "markdown",
      "source": [
        "10. How do you handle errors in Flask (e.g., 404)?\n",
        "\n",
        "- We can use error handlers for this:"
      ],
      "metadata": {
        "id": "1BW-GCiGHfDf"
      }
    },
    {
      "cell_type": "code",
      "source": [
        "@app.errorhandler(404)\n",
        "def page_not_found(e):\n",
        "    return \"Page Not Found\", 404\n"
      ],
      "metadata": {
        "id": "3HK1dOneHo1q"
      },
      "execution_count": null,
      "outputs": []
    },
    {
      "cell_type": "markdown",
      "source": [
        "11. How do you structure a Flask app using Blueprints?\n",
        "- Blueprints help in modularizing the code.\n",
        "- Example:\n",
        "\n",
        "main.py"
      ],
      "metadata": {
        "id": "ZSeq8j-fHqiQ"
      }
    },
    {
      "cell_type": "code",
      "source": [
        "from flask import Flask\n",
        "from myroutes import app_routes\n",
        "\n",
        "app = Flask(__name__)\n",
        "app.register_blueprint(app_routes)\n"
      ],
      "metadata": {
        "id": "Z54eH4XAHyRA"
      },
      "execution_count": null,
      "outputs": []
    },
    {
      "cell_type": "markdown",
      "source": [
        "myroutes.py\n"
      ],
      "metadata": {
        "id": "QYYAQN6OIIRh"
      }
    },
    {
      "cell_type": "code",
      "source": [
        "from flask import Blueprint\n",
        "\n",
        "app_routes = Blueprint('app_routes', __name__)\n",
        "\n",
        "@app_routes.route('/hello')\n",
        "def hello():\n",
        "    return \"Hello from Blueprint!\"\n"
      ],
      "metadata": {
        "id": "ryAGw4xCIT4j"
      },
      "execution_count": null,
      "outputs": []
    },
    {
      "cell_type": "markdown",
      "source": [
        "12. How do you define a custom Jinja filter in Flask?\n",
        "- We can create your own filter like this:"
      ],
      "metadata": {
        "id": "3KBLF0THIlsc"
      }
    },
    {
      "cell_type": "code",
      "source": [
        "@app.template_filter('reverse')\n",
        "def reverse_filter(s):\n",
        "    return s[::-1]\n",
        "\n",
        "# In template:\n",
        "{{ 'hello' | reverse }}  <!-- Output: 'olleh' -->\n"
      ],
      "metadata": {
        "id": "XRXeSrB-Ir9K"
      },
      "execution_count": null,
      "outputs": []
    },
    {
      "cell_type": "markdown",
      "source": [
        "13. How can you redirect with query parameters in Flask?\n",
        "- Using url_for with query parameters:\n"
      ],
      "metadata": {
        "id": "egvMXYTVI1fy"
      }
    },
    {
      "cell_type": "code",
      "source": [
        "@app.route('/search')\n",
        "def search():\n",
        "    return redirect(url_for('results', q='flask'))\n",
        "\n",
        "@app.route('/results')\n",
        "def results():\n",
        "    query = request.args.get('q')\n",
        "    return f\"Results for {query}\"\n"
      ],
      "metadata": {
        "id": "iiVbOSLfJEef"
      },
      "execution_count": null,
      "outputs": []
    },
    {
      "cell_type": "markdown",
      "source": [
        "14. How do you return JSON responses in Flask?\n",
        "\n",
        "- Using jsonify():\n"
      ],
      "metadata": {
        "id": "X-xOpPj3JGZq"
      }
    },
    {
      "cell_type": "code",
      "source": [
        "from flask import jsonify\n",
        "\n",
        "@app.route('/api/data')\n",
        "def data():\n",
        "    return jsonify({\"name\": \"Suraj\", \"age\": 28})\n"
      ],
      "metadata": {
        "id": "pCAz1yUgJaGU"
      },
      "execution_count": null,
      "outputs": []
    },
    {
      "cell_type": "markdown",
      "source": [
        "15. How do you capture URL parameters in Flask?\n",
        "- Use angle brackets in route definition:"
      ],
      "metadata": {
        "id": "SSCHjP3PJlL4"
      }
    },
    {
      "cell_type": "code",
      "source": [
        "@app.route('/user/<username>')\n",
        "def show_user(username):\n",
        "    return f\"User: {username}\"\n"
      ],
      "metadata": {
        "id": "f06Y4bMsJr5_"
      },
      "execution_count": null,
      "outputs": []
    }
  ]
}