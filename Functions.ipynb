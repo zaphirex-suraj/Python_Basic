{
  "nbformat": 4,
  "nbformat_minor": 0,
  "metadata": {
    "colab": {
      "provenance": []
    },
    "kernelspec": {
      "name": "python3",
      "display_name": "Python 3"
    },
    "language_info": {
      "name": "python"
    }
  },
  "cells": [
    {
      "cell_type": "markdown",
      "source": [
        "#Functions Assignment\n",
        "\n",
        "Theoritical Questions Solutions\n",
        "\n",
        "1. What is the difference between a function and a method in Python?\n",
        "- A function is a block of code that performs a task and can be called independently. A method is like a function, but it's tied to an object (usually from a class).\n",
        "-Example:"
      ],
      "metadata": {
        "id": "n34V0lH89LSB"
      }
    },
    {
      "cell_type": "code",
      "source": [
        "def greet():\n",
        "    print(\"Hello!\")  # function\n",
        "\n",
        "\"hello\".upper()  # method\n"
      ],
      "metadata": {
        "colab": {
          "base_uri": "https://localhost:8080/",
          "height": 35
        },
        "id": "IOfhcZa8_Jiv",
        "outputId": "822f584e-32cc-40bb-b99a-f85b2c5fc0e3"
      },
      "execution_count": null,
      "outputs": [
        {
          "output_type": "execute_result",
          "data": {
            "text/plain": [
              "'HELLO'"
            ],
            "application/vnd.google.colaboratory.intrinsic+json": {
              "type": "string"
            }
          },
          "metadata": {},
          "execution_count": 1
        }
      ]
    },
    {
      "cell_type": "markdown",
      "source": [
        "2. Explain the concept of function arguments and parameters in Python.\n",
        "\n",
        "- Parameters are the variables listed in the function definition.\n",
        "- Arguments are the actual values passed to the function when it is called.\n",
        "\n",
        "- Example:"
      ],
      "metadata": {
        "id": "hbscnXBz_d6e"
      }
    },
    {
      "cell_type": "code",
      "source": [
        "def add(a, b):  # a and b are parameters\n",
        "    return a + b\n",
        "\n",
        "add(3, 4)  # 3 and 4 are arguments\n"
      ],
      "metadata": {
        "id": "TlS9eoNF_yW_"
      },
      "execution_count": null,
      "outputs": []
    },
    {
      "cell_type": "markdown",
      "source": [
        "3. What are the different ways to define and call a function in Python?\n",
        "\n",
        "- Functions are usually defined using the def keyword. We call them by writing their name followed by parentheses.\n",
        "\n",
        "- Example:"
      ],
      "metadata": {
        "id": "AsHhHWP8_2OB"
      }
    },
    {
      "cell_type": "code",
      "source": [
        "def greet(name):\n",
        "    print(\"Hello\", name)\n",
        "\n",
        "greet(\"Ravi\")  # calling function\n",
        "\n",
        "'We can also use lambda to define anonymous functions'"
      ],
      "metadata": {
        "id": "2EDAiMxkADhD"
      },
      "execution_count": null,
      "outputs": []
    },
    {
      "cell_type": "markdown",
      "source": [
        "4. What is the purpose of the 'return' statement in a Python function?\n",
        "- The return statement sends back a result from a function. Without it, the function returns None.\n",
        "\n",
        "- Example:"
      ],
      "metadata": {
        "id": "SNAI5Q6TAcpc"
      }
    },
    {
      "cell_type": "code",
      "source": [
        "def square(x):\n",
        "    return x * x\n",
        "\n",
        "result = square(5)  # returns 25\n"
      ],
      "metadata": {
        "id": "a6p36vp1Aoqa"
      },
      "execution_count": null,
      "outputs": []
    },
    {
      "cell_type": "markdown",
      "source": [
        "5. What are iterators in Python and how do they differ from iterables?\n",
        "- An iterable is any object we can loop over (like a list or string).\n",
        "-  An iterator is an object with a __next__() method that gives one item at a time.\n",
        "\n",
        "- Example:"
      ],
      "metadata": {
        "id": "0JqucR2CAr3r"
      }
    },
    {
      "cell_type": "code",
      "source": [
        "nums = [1, 2, 3]      # iterable\n",
        "it = iter(nums)       # now it's an iterator\n",
        "print(next(it))       # prints 1\n"
      ],
      "metadata": {
        "id": "FQNQtStXD6n0"
      },
      "execution_count": null,
      "outputs": []
    },
    {
      "cell_type": "markdown",
      "source": [
        "6. Explain the concept of generators in Python and how they are defined.\n",
        "\n",
        "- Generators are like functions but use yield instead of return. They give one result at a time and remember where they left off.\n",
        "\n",
        "- Example:"
      ],
      "metadata": {
        "id": "mhSGkQEYD9hd"
      }
    },
    {
      "cell_type": "code",
      "source": [
        "def count_up():\n",
        "    for i in range(3):\n",
        "        yield i\n",
        "\n",
        "gen = count_up()\n",
        "print(next(gen))  # prints 0\n"
      ],
      "metadata": {
        "id": "psBSOHZdELgf"
      },
      "execution_count": null,
      "outputs": []
    },
    {
      "cell_type": "markdown",
      "source": [
        "7. What are the advantages of using generators over regular functions?\n",
        "- Generators don’t store everything in memory. They are great when we work with large data, and you don’t want to load everything at once.\n",
        "\n",
        "- Example:\n",
        "Using yield in a loop saves memory, unlike building a big list with return.\n",
        "\n"
      ],
      "metadata": {
        "id": "FaneIOBhEOxu"
      }
    },
    {
      "cell_type": "markdown",
      "source": [
        "8. What is a lambda function in Python and when is it typically used?\n",
        "\n",
        "- A lambda is a short, one-line function with no name. Used where you need a simple function quickly.\n",
        "\n",
        "- Example:"
      ],
      "metadata": {
        "id": "KW2EtNekEpYH"
      }
    },
    {
      "cell_type": "code",
      "source": [
        "square = lambda x: x * x\n",
        "print(square(4))  # prints 16\n"
      ],
      "metadata": {
        "id": "R9j3eZcwE4Gq"
      },
      "execution_count": null,
      "outputs": []
    },
    {
      "cell_type": "markdown",
      "source": [
        "9. Explain the purpose and usage of the map() function in Python.\n",
        "- map() applies a function to every item in an iterable.\n",
        "\n",
        "- Example:"
      ],
      "metadata": {
        "id": "gNxCwsxIE6Rd"
      }
    },
    {
      "cell_type": "code",
      "source": [
        "nums = [1, 2, 3]\n",
        "squared = list(map(lambda x: x**2, nums))\n",
        "print(squared)  # [1, 4, 9]\n"
      ],
      "metadata": {
        "id": "DrJuvOIUFJ9U"
      },
      "execution_count": null,
      "outputs": []
    },
    {
      "cell_type": "markdown",
      "source": [
        "10. What is the difference between map(), reduce(), and filter() functions in Python?\n",
        "- map() changes each item using a function.\n",
        "\n",
        "- filter() picks items based on a condition.\n",
        "\n",
        "- reduce() combines all items into one value (needs functools).\n",
        "\n",
        "🔹 Example:"
      ],
      "metadata": {
        "id": "Y24NIuuWFM_o"
      }
    },
    {
      "cell_type": "code",
      "source": [
        "from functools import reduce\n",
        "\n",
        "nums = [1, 2, 3, 4]\n",
        "print(list(map(lambda x: x*2, nums)))       # [2, 4, 6, 8]\n",
        "print(list(filter(lambda x: x%2==0, nums))) # [2, 4]\n",
        "print(reduce(lambda x, y: x+y, nums))       # 10\n"
      ],
      "metadata": {
        "id": "GrJLsEWJFcNU"
      },
      "execution_count": null,
      "outputs": []
    },
    {
      "cell_type": "markdown",
      "source": [
        "11. Using Pen & Paper write the internal mechanism for sum operation using reduce function on this list: [47, 11, 42, 13].\n",
        "\n"
      ],
      "metadata": {
        "id": "ZXOyXJGfFw6p"
      }
    },
    {
      "cell_type": "markdown",
      "source": [
        "\n",
        "\n",
        "![ques 11.jpg](data:image/jpeg;base64,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)\n"
      ],
      "metadata": {
        "id": "UIinvamQAHPM"
      }
    },
    {
      "cell_type": "markdown",
      "source": [
        "# Practical Question Solutions"
      ],
      "metadata": {
        "id": "R6DbI9InJg9h"
      }
    },
    {
      "cell_type": "markdown",
      "source": [
        " 1. Write a Python function that takes a list of numbers as input and returns the sum of all even numbers in the list."
      ],
      "metadata": {
        "id": "te0OcRSou5uv"
      }
    },
    {
      "cell_type": "code",
      "source": [
        "def sum_of_even(numbers):\n",
        "    return sum(num for num in numbers if num % 2 == 0)\n",
        "\n",
        "# Example:\n",
        "print(sum_of_even([1, 2, 3, 4, 5, 6]))  # Output: 12\n"
      ],
      "metadata": {
        "colab": {
          "base_uri": "https://localhost:8080/"
        },
        "id": "lraarZUcu76m",
        "outputId": "22c74c0d-5bb1-4c8d-e871-0f7d9dfd16a4"
      },
      "execution_count": 1,
      "outputs": [
        {
          "output_type": "stream",
          "name": "stdout",
          "text": [
            "12\n"
          ]
        }
      ]
    },
    {
      "cell_type": "markdown",
      "source": [
        "2. Create a Python function that accepts a string and returns the reverse of that string.\n"
      ],
      "metadata": {
        "id": "DJoB5ioavNTv"
      }
    },
    {
      "cell_type": "code",
      "source": [
        "def reverse_string(text):\n",
        "    return text[::-1]\n",
        "\n",
        "# Example:\n",
        "print(reverse_string(\"python\"))  # Output: nohtyp\n"
      ],
      "metadata": {
        "colab": {
          "base_uri": "https://localhost:8080/"
        },
        "id": "8fTSBcgjvTnD",
        "outputId": "68ce131a-0f0d-421d-badf-f307d8977351"
      },
      "execution_count": 2,
      "outputs": [
        {
          "output_type": "stream",
          "name": "stdout",
          "text": [
            "nohtyp\n"
          ]
        }
      ]
    },
    {
      "cell_type": "markdown",
      "source": [
        "3. Implement a Python function that takes a list of integers and returns a new list containing the squares of each number."
      ],
      "metadata": {
        "id": "T8YACi5uveeq"
      }
    },
    {
      "cell_type": "code",
      "source": [
        "def square_list(nums):\n",
        "    return [x ** 2 for x in nums]\n",
        "\n",
        "# Example:\n",
        "print(square_list([1, 2, 3]))  # Output: [1, 4, 9]\n"
      ],
      "metadata": {
        "colab": {
          "base_uri": "https://localhost:8080/"
        },
        "id": "wUokYy1UvjMH",
        "outputId": "fdb4fbaf-4c2b-48c9-92bc-2653bb1b5c8e"
      },
      "execution_count": 3,
      "outputs": [
        {
          "output_type": "stream",
          "name": "stdout",
          "text": [
            "[1, 4, 9]\n"
          ]
        }
      ]
    },
    {
      "cell_type": "markdown",
      "source": [
        "4. Write a Python function that checks if a given number is prime or not from 1 to 200."
      ],
      "metadata": {
        "id": "zj01CyClvzQc"
      }
    },
    {
      "cell_type": "code",
      "source": [
        "def is_prime(n):\n",
        "    if n <= 1:\n",
        "        return False\n",
        "    for i in range(2, int(n ** 0.5)+1):\n",
        "        if n % i == 0:\n",
        "            return False\n",
        "    return True\n",
        "\n",
        "# Example:\n",
        "primes = [x for x in range(1, 201) if is_prime(x)]\n",
        "print(primes)"
      ],
      "metadata": {
        "colab": {
          "base_uri": "https://localhost:8080/"
        },
        "id": "VIHuZsDLv6a-",
        "outputId": "2d6c37a6-cb69-4333-e2cf-8c113365db61"
      },
      "execution_count": 4,
      "outputs": [
        {
          "output_type": "stream",
          "name": "stdout",
          "text": [
            "[2, 3, 5, 7, 11, 13, 17, 19, 23, 29, 31, 37, 41, 43, 47, 53, 59, 61, 67, 71, 73, 79, 83, 89, 97, 101, 103, 107, 109, 113, 127, 131, 137, 139, 149, 151, 157, 163, 167, 173, 179, 181, 191, 193, 197, 199]\n"
          ]
        }
      ]
    },
    {
      "cell_type": "markdown",
      "source": [
        " 5. Create an iterator class in Python that generates the Fibonacci sequence up to a specified number of terms.\n"
      ],
      "metadata": {
        "id": "Me63H8PXwDbp"
      }
    },
    {
      "cell_type": "code",
      "source": [
        "\n",
        "class Fibonacci:\n",
        "    def __init__(self, max_terms):\n",
        "        self.max = max_terms\n",
        "        self.n1 = 0\n",
        "        self.n2 = 1\n",
        "        self.count = 0\n",
        "\n",
        "    def __iter__(self):\n",
        "        return self\n",
        "\n",
        "    def __next__(self):\n",
        "        if self.count >= self.max:\n",
        "            raise StopIteration\n",
        "        if self.count == 0:\n",
        "            self.count += 1\n",
        "            return self.n1\n",
        "        elif self.count == 1:\n",
        "            self.count += 1\n",
        "            return self.n2\n",
        "        else:\n",
        "            next_val = self.n1 + self.n2\n",
        "            self.n1, self.n2 = self.n2, next_val\n",
        "            self.count += 1\n",
        "            return next_val\n",
        "\n",
        "# Example\n",
        "for num in Fibonacci(10):\n",
        "    print(num, end=' ')\n"
      ],
      "metadata": {
        "colab": {
          "base_uri": "https://localhost:8080/"
        },
        "id": "QkRFn1ogwKCS",
        "outputId": "851ae979-6c91-49a5-c4de-664467fe8179"
      },
      "execution_count": 7,
      "outputs": [
        {
          "output_type": "stream",
          "name": "stdout",
          "text": [
            "0 1 1 2 3 5 8 13 21 34 "
          ]
        }
      ]
    },
    {
      "cell_type": "markdown",
      "source": [
        "6. Write a generator function in Python that yields the powers of 2 up to a given exponent."
      ],
      "metadata": {
        "id": "LMPHliFqw7j2"
      }
    },
    {
      "cell_type": "code",
      "source": [
        "def powers_of_two(n):\n",
        "    for i in range(n + 1):\n",
        "        yield 2 ** i\n",
        "\n",
        "# Example:\n",
        "for power in powers_of_two(5):\n",
        "    print(power)"
      ],
      "metadata": {
        "colab": {
          "base_uri": "https://localhost:8080/"
        },
        "id": "RVjytSVqxJyi",
        "outputId": "8c1cd72f-fa55-4962-8557-32339f38ff9e"
      },
      "execution_count": 8,
      "outputs": [
        {
          "output_type": "stream",
          "name": "stdout",
          "text": [
            "1\n",
            "2\n",
            "4\n",
            "8\n",
            "16\n",
            "32\n"
          ]
        }
      ]
    },
    {
      "cell_type": "markdown",
      "source": [
        "7. Implement a generator function that reads a file line by line and yields each line as a string."
      ],
      "metadata": {
        "id": "hvMZY7Zmxhrj"
      }
    },
    {
      "cell_type": "code",
      "source": [
        "def read_file_lines(file_path):\n",
        "    with open(file_path, 'r') as file:\n",
        "        for line in file:\n",
        "            yield line.strip()\n",
        "\n",
        "# Use the correct path for Google Colab\n",
        "for line in read_file_lines(\"/content/Python.txt\"):\n",
        "    print(line)\n"
      ],
      "metadata": {
        "colab": {
          "base_uri": "https://localhost:8080/"
        },
        "id": "DrivF9NcxnoO",
        "outputId": "e16138dd-caec-4732-c50e-60403dcc1bff"
      },
      "execution_count": 16,
      "outputs": [
        {
          "output_type": "stream",
          "name": "stdout",
          "text": [
            "Python is a high-level, general-purpose programming language. Its design philosophy emphasizes code readability with the use of significant indentation.\n",
            "\n",
            "Python is dynamically type-checked and garbage-collected. It supports multiple programming paradigms, including structured (particularly procedural), object-oriented and functional programming. It is often described as a \"batteries included\" language due to its comprehensive standard library.\n",
            "\n",
            "Guido van Rossum began working on Python in the late 1980s as a successor to the ABC programming language, and he first released it in 1991 as Python 0.9.0. Python 2.0 was released in 2000. Python 3.0, released in 2008, was a major revision not completely backward-compatible with earlier versions. Python 2.7.18, released in 2020, was the last release of Python 2.\n",
            "\n",
            "Python consistently ranks as one of the most popular programming languages, and it has gained widespread use in the machine learning community.\n"
          ]
        }
      ]
    },
    {
      "cell_type": "markdown",
      "source": [
        "8. Use a lambda function in Python to sort a list of tuples based on the second element of each tuple."
      ],
      "metadata": {
        "id": "0Khla8Te36qp"
      }
    },
    {
      "cell_type": "code",
      "source": [
        "data = [(1, 3), (2, 1), (3, 2)]\n",
        "sorted_data = sorted(data, key=lambda x: x[1])\n",
        "print(sorted_data)  # Output: [(2, 1), (3, 2), (1, 3)]"
      ],
      "metadata": {
        "colab": {
          "base_uri": "https://localhost:8080/"
        },
        "id": "ELn-bfS_38M2",
        "outputId": "387722f6-5d4d-4301-bff2-3fc72f4fe3f0"
      },
      "execution_count": 17,
      "outputs": [
        {
          "output_type": "stream",
          "name": "stdout",
          "text": [
            "[(2, 1), (3, 2), (1, 3)]\n"
          ]
        }
      ]
    },
    {
      "cell_type": "markdown",
      "source": [
        " 9. Write a Python program that uses map() to convert a list of temperatures from Celsius to Fahrenheit."
      ],
      "metadata": {
        "id": "Bk2rBbRo4N_F"
      }
    },
    {
      "cell_type": "code",
      "source": [
        "celsius = [0, 20, 30, 40]\n",
        "fahrenheit = list(map(lambda c: (c * 9/5) + 32, celsius))\n",
        "print(fahrenheit)  # Output: [32.0, 68.0, 86.0, 104.0]"
      ],
      "metadata": {
        "colab": {
          "base_uri": "https://localhost:8080/"
        },
        "id": "B33S09oB4X9q",
        "outputId": "fbbfa2b3-a83d-4862-f6f5-76faa69418bb"
      },
      "execution_count": 18,
      "outputs": [
        {
          "output_type": "stream",
          "name": "stdout",
          "text": [
            "[32.0, 68.0, 86.0, 104.0]\n"
          ]
        }
      ]
    },
    {
      "cell_type": "markdown",
      "source": [
        "10. Create a Python program that uses 'filter()` to remove all the vowels from a given string.\n"
      ],
      "metadata": {
        "id": "JgIQcHv94f8S"
      }
    },
    {
      "cell_type": "code",
      "source": [
        "def remove_vowels(text):\n",
        "    return ''.join(filter(lambda ch: ch.lower() not in 'aeiou', text))\n",
        "\n",
        "# Example:\n",
        "print(remove_vowels(\"Hello World\"))  # Output: Hll Wrld\n"
      ],
      "metadata": {
        "colab": {
          "base_uri": "https://localhost:8080/"
        },
        "id": "Zprirwiv4prf",
        "outputId": "348585bd-3d4b-4079-b35f-722b3f593ca9"
      },
      "execution_count": 19,
      "outputs": [
        {
          "output_type": "stream",
          "name": "stdout",
          "text": [
            "Hll Wrld\n"
          ]
        }
      ]
    },
    {
      "cell_type": "markdown",
      "source": [
        " 11. Accounting routine: return a list with 2-tuples (order number, total cost), add 10€ if cost < 100."
      ],
      "metadata": {
        "id": "hJTrwlfP4yIE"
      }
    },
    {
      "cell_type": "code",
      "source": [
        "orders = [\n",
        "    [34587, \"Learning Python, Mark Lutz\", 4, 40.95],\n",
        "    [98762, \"Programming Python, Mark Lutz\", 5, 56.80],\n",
        "    [77226, \"Head First Python, Paul Barry\", 3, 32.95],\n",
        "    [88112, \"Einführung in Python3, Bernd Klein\", 3, 24.99]\n",
        "]\n",
        "\n",
        "result = list(map(lambda order: (order[0], order[2]*order[3] + (10 if order[2]*order[3] < 100 else 0)), orders))\n",
        "print(result)"
      ],
      "metadata": {
        "colab": {
          "base_uri": "https://localhost:8080/"
        },
        "id": "rM4BaShi5Qdf",
        "outputId": "983de3af-2193-46c3-9aee-462adc0c855c"
      },
      "execution_count": 20,
      "outputs": [
        {
          "output_type": "stream",
          "name": "stdout",
          "text": [
            "[(34587, 163.8), (98762, 284.0), (77226, 108.85000000000001), (88112, 84.97)]\n"
          ]
        }
      ]
    }
  ]
}