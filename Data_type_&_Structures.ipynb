{
  "nbformat": 4,
  "nbformat_minor": 0,
  "metadata": {
    "colab": {
      "provenance": []
    },
    "kernelspec": {
      "name": "python3",
      "display_name": "Python 3"
    },
    "language_info": {
      "name": "python"
    }
  },
  "cells": [
    {
      "cell_type": "markdown",
      "source": [],
      "metadata": {
        "id": "Ir1oMQNVRkwi"
      }
    },
    {
      "cell_type": "markdown",
      "source": [
        "#Data type and structures - Assignment\n",
        "#Theoritical Questions Solutions\n",
        "\n",
        "1. What are data structures, and why are they important?\n",
        "\n",
        "- Data structures are basically different ways to store and organize data in a program so that we can use it easily. In Python, we have list, tuple, dictionary, and set. These help us manage large amounts of data properly.\n",
        "\n",
        "Example:\n",
        "If we want to store names of students, we can use a list like this:\n"
      ],
      "metadata": {
        "id": "-wvdk3thRmpm"
      }
    },
    {
      "cell_type": "code",
      "source": [
        "students = [\"Rahul\", \"Amit\", \"Priya\"]\n",
        "\n"
      ],
      "metadata": {
        "id": "qGbO3UhRSFBC"
      },
      "execution_count": 4,
      "outputs": []
    },
    {
      "cell_type": "markdown",
      "source": [
        "2. Explain the difference between mutable and immutable data types with examples.\n",
        "\n",
        "- Mutable means the value can be changed after creating the object.\n",
        "\n",
        "- Immutable means the value cannot be changed.\n",
        "Mutable example:\n"
      ],
      "metadata": {
        "id": "uUxabkmbSetd"
      }
    },
    {
      "cell_type": "code",
      "source": [
        "my_list = [1, 2, 3]\n",
        "my_list[0] = 10\n",
        "print(my_list)  # Output: [10, 2, 3]\n"
      ],
      "metadata": {
        "colab": {
          "base_uri": "https://localhost:8080/"
        },
        "id": "fo86vDZGTL6C",
        "outputId": "9a59710e-7830-4b46-974b-0b60d605e3dc"
      },
      "execution_count": 3,
      "outputs": [
        {
          "output_type": "stream",
          "name": "stdout",
          "text": [
            "[10, 2, 3]\n"
          ]
        }
      ]
    },
    {
      "cell_type": "markdown",
      "source": [
        "Immutable example:"
      ],
      "metadata": {
        "id": "gFsLviR5TWqm"
      }
    },
    {
      "cell_type": "code",
      "source": [
        "my_str = \"Hello\"\n",
        "# my_str[0] = 'Y'\n",
        "# This will give error, because strings are immutable\n"
      ],
      "metadata": {
        "id": "jT4120fNTcm2"
      },
      "execution_count": 8,
      "outputs": []
    },
    {
      "cell_type": "markdown",
      "source": [
        "3. What are the main differences between lists and tuples in Python?\n",
        "\n",
        "  - In Python, lists are **mutable**, meaning their items can be changed, added, or removed. Tuples are **immutable**, so their data remains fixed. Lists use `[]`, while tuples use `()`. Tuples are slightly **faster** and safer for fixed data, while lists are better when the data needs modification.\n",
        "\n"
      ],
      "metadata": {
        "id": "zOpi27StTuso"
      }
    },
    {
      "cell_type": "code",
      "source": [
        "my_list = [1, 2, 3]\n",
        "my_tuple = (1, 2, 3)\n"
      ],
      "metadata": {
        "id": "l8qHgfqjU7Lj"
      },
      "execution_count": null,
      "outputs": []
    },
    {
      "cell_type": "markdown",
      "source": [],
      "metadata": {
        "id": "Itcyrzo6SyDV"
      }
    },
    {
      "cell_type": "markdown",
      "source": [
        "4. Describe how dictionaries store data.\n",
        "\n",
        "- Dictionaries store data in key-value pairs. It’s like a real dictionary, where a word (key) has a meaning (value).\n",
        "In Python, it looks like this:"
      ],
      "metadata": {
        "id": "eypfKywiU-hO"
      }
    },
    {
      "cell_type": "code",
      "source": [
        "student = {\"name\": \"Ravi\", \"age\": 20}\n",
        "print(student[\"name\"])  # Output: Ravi\n"
      ],
      "metadata": {
        "id": "sQBhbvYSVkGg"
      },
      "execution_count": null,
      "outputs": []
    },
    {
      "cell_type": "markdown",
      "source": [
        "5. Why might you use a set instead of a list in Python?\n",
        "\n",
        "- Sets are used when we don’t want duplicate values and we don’t care about the order of items.\n",
        "\n",
        "- Example:"
      ],
      "metadata": {
        "id": "s3Tr6NYtVyOM"
      }
    },
    {
      "cell_type": "code",
      "source": [
        "my_set = {1, 2, 2, 3}\n",
        "print(my_set)  # Output: {1, 2, 3}\n"
      ],
      "metadata": {
        "id": "m2bnkD3dWE77"
      },
      "execution_count": null,
      "outputs": []
    },
    {
      "cell_type": "markdown",
      "source": [
        "6. What is a string in Python, and how is it different from a list?\n",
        "\n",
        "- A string is a sequence of characters, like words or sentences.\n",
        "\n",
        "- Difference from list:\n",
        "\n",
        "- A string is immutable.\n",
        "\n",
        "- A list can hold multiple data types, but strings hold only characters.\n",
        "\n",
        "Example:"
      ],
      "metadata": {
        "id": "PJXK5B_-WIyK"
      }
    },
    {
      "cell_type": "code",
      "source": [
        "my_str = \"hello\"\n",
        "my_list = ['h', 'e', 'l', 'l', 'o']\n"
      ],
      "metadata": {
        "id": "YEsz6bBFWffH"
      },
      "execution_count": null,
      "outputs": []
    },
    {
      "cell_type": "markdown",
      "source": [
        "7. How do tuples ensure data integrity in Python?\n",
        "\n",
        "- Tuples are immutable, which means once we create them, we can't change their content. So, they are good for storing fixed data that should not be modified.\n",
        "\n",
        "Example:"
      ],
      "metadata": {
        "id": "3hu2riNuWnxM"
      }
    },
    {
      "cell_type": "code",
      "source": [
        "days = (\"Monday\", \"Tuesday\", \"Wednesday\")\n",
        "# No one can change the order or names accidentally\n"
      ],
      "metadata": {
        "id": "X7nFhnghW0sy"
      },
      "execution_count": null,
      "outputs": []
    },
    {
      "cell_type": "markdown",
      "source": [
        "8. What is a hash table, and how does it relate to dictionaries in Python?\n",
        "\n",
        "- A hash table is a way of storing data so that we can access it fast using a key.\n",
        "Python dictionaries use hash tables behind the scenes to store the key-value pairs.\n",
        "\n",
        "Example:"
      ],
      "metadata": {
        "id": "PIlIqtT9XCfa"
      }
    },
    {
      "cell_type": "code",
      "source": [
        "my_dict = {\"a\": 1, \"b\": 2}\n",
        "Here \"a\" and \"b\" are hashed and used to quickly find their values"
      ],
      "metadata": {
        "id": "iXMqLIWNXIlN"
      },
      "execution_count": 9,
      "outputs": []
    },
    {
      "cell_type": "markdown",
      "source": [
        "9. Can lists contain different data types in Python?\n",
        "\n",
        "- Yes, in Python, a list can contain different types of data like numbers, strings, or even other lists.\n",
        "\n",
        "Example:"
      ],
      "metadata": {
        "id": "GVWTOMkwXYlb"
      }
    },
    {
      "cell_type": "code",
      "source": [
        "my_list = [10, \"Hello\", 3.14, [1, 2]]\n",
        "print(my_list)\n"
      ],
      "metadata": {
        "colab": {
          "base_uri": "https://localhost:8080/"
        },
        "id": "5vx6IuEjXpXc",
        "outputId": "9b2353e7-5dae-453b-b778-aca4a08996c4"
      },
      "execution_count": 10,
      "outputs": [
        {
          "output_type": "stream",
          "name": "stdout",
          "text": [
            "[10, 'Hello', 3.14, [1, 2]]\n"
          ]
        }
      ]
    },
    {
      "cell_type": "markdown",
      "source": [
        "10. Explain why strings are immutable in Python.\n",
        "\n",
        "\n",
        "- Strings are immutable so that they are safe to use and don’t get changed by accident.\n",
        "Also, it helps in making Python programs faster and memory-efficient.\n",
        "\n",
        "Example:"
      ],
      "metadata": {
        "id": "oONo7hByXwGj"
      }
    },
    {
      "cell_type": "code",
      "source": [
        "text = \"apple\"\n",
        "# text[0] = \"b\"  → This will give an error\n"
      ],
      "metadata": {
        "id": "CW6Z8kx0YCMM"
      },
      "execution_count": null,
      "outputs": []
    },
    {
      "cell_type": "markdown",
      "source": [
        "11. What advantages do dictionaries offer over lists for certain tasks?\n",
        "\n",
        "- Dictionaries are better than lists when we need to store and access data using keys instead of just positions (indexes). They make it easy to find values using a key, which is faster and more readable, especially when handling large datasets.\n",
        "\n",
        "\n"
      ],
      "metadata": {
        "id": "qWCNIUb-ZG9c"
      }
    },
    {
      "cell_type": "markdown",
      "source": [
        "12. Describe a scenario where using a tuple would be preferable over a list.\n",
        "\n",
        "- If we are storing fixed data that should not change, like the days of the week or coordinates of a location, using a tuple is better. Since tuples are immutable, the data stays protected from accidental changes.\n",
        "\n",
        "Example:\n"
      ],
      "metadata": {
        "id": "uOI9Lkp6ZmQo"
      }
    },
    {
      "cell_type": "code",
      "source": [
        "days = (\"Mon\", \"Tue\", \"Wed\")\n"
      ],
      "metadata": {
        "id": "fIaagyjyaARM"
      },
      "execution_count": null,
      "outputs": []
    },
    {
      "cell_type": "markdown",
      "source": [
        "13. How do sets handle duplicate values in Python?\n",
        "\n",
        "- Sets automatically remove duplicate values. If we add the same item more than once, it will only keep one copy. This is useful when we want to make sure all items are unique.\n",
        "\n",
        "Example:"
      ],
      "metadata": {
        "id": "JBIvWRhZaj1t"
      }
    },
    {
      "cell_type": "code",
      "source": [
        "my_set = {1, 2, 2, 3}\n",
        "print(my_set)  # Output: {1, 2, 3}\n"
      ],
      "metadata": {
        "colab": {
          "base_uri": "https://localhost:8080/"
        },
        "id": "CN8ikXLPausF",
        "outputId": "ca25723b-5384-41ae-fe37-46f10c93f91f"
      },
      "execution_count": 12,
      "outputs": [
        {
          "output_type": "stream",
          "name": "stdout",
          "text": [
            "{1, 2, 3}\n"
          ]
        }
      ]
    },
    {
      "cell_type": "markdown",
      "source": [
        "14. How does the \"in\" keyword work differently for lists and dictionaries?\n",
        "\n",
        "- In a list, the \"in\" keyword checks if a value exists in the list.\n",
        "In a dictionary, \"in\" only checks for keys, not values.\n",
        "\n",
        "Example:"
      ],
      "metadata": {
        "id": "5_CfQftXa7Z4"
      }
    },
    {
      "cell_type": "code",
      "source": [
        "my_list = [1, 2, 3]\n",
        "print(2 in my_list)  # True\n",
        "\n",
        "my_dict = {\"a\": 1, \"b\": 2}\n",
        "print(\"a\" in my_dict)  # True\n",
        "print(2 in my_dict)    # False\n"
      ],
      "metadata": {
        "colab": {
          "base_uri": "https://localhost:8080/"
        },
        "id": "rlixNMJmbVHD",
        "outputId": "ae4061e3-e24d-4d00-c56c-37a7d9695acc"
      },
      "execution_count": 13,
      "outputs": [
        {
          "output_type": "stream",
          "name": "stdout",
          "text": [
            "True\n",
            "True\n",
            "False\n"
          ]
        }
      ]
    },
    {
      "cell_type": "markdown",
      "source": [
        "15. Can you modify the elements of a tuple? Explain why or why not.\n",
        "\n",
        "- No, we cannot modify elements of a tuple because tuples are immutable in Python. Once a tuple is created, its contents can’t be changed, which helps protect the data from being altered by mistake."
      ],
      "metadata": {
        "id": "pGZ333MubcfT"
      }
    },
    {
      "cell_type": "markdown",
      "source": [
        "16. What is a nested dictionary, and give an example of its use case?\n",
        "\n",
        "- A nested dictionary means a dictionary inside another dictionary. It's useful when we want to store detailed information in a structured way.\n",
        "\n",
        "Example:"
      ],
      "metadata": {
        "id": "DER2top2blcg"
      }
    },
    {
      "cell_type": "code",
      "source": [
        "student = {\n",
        "  \"name\": \"Ankit\",\n",
        "  \"marks\": {\"math\": 90, \"science\": 85}\n",
        "}\n",
        "print(student[\"marks\"][\"math\"])  # Output: 90\n"
      ],
      "metadata": {
        "colab": {
          "base_uri": "https://localhost:8080/"
        },
        "id": "Lu3ikaeUbsnk",
        "outputId": "0fe2c257-99d4-43cd-acc3-1007ed420e1b"
      },
      "execution_count": 14,
      "outputs": [
        {
          "output_type": "stream",
          "name": "stdout",
          "text": [
            "90\n"
          ]
        }
      ]
    },
    {
      "cell_type": "markdown",
      "source": [
        "17. Describe the time complexity of accessing elements in a dictionary.\n",
        "\n",
        "- The average time complexity for accessing a value from a dictionary using a key is O(1), which means it’s very fast, even with lots of data, because Python uses hash tables to manage dictionaries."
      ],
      "metadata": {
        "id": "T0nsSnxVb3GG"
      }
    },
    {
      "cell_type": "markdown",
      "source": [
        "18. In what situations are lists preferred over dictionaries?\n",
        "\n",
        "- Lists are preferred when we only need to store a sequence of items and access them using positions (indexes), like a list of numbers, names, or items in order. Lists are simple and take less memory compared to dictionaries."
      ],
      "metadata": {
        "id": "kc9gcflFb9l4"
      }
    },
    {
      "cell_type": "markdown",
      "source": [
        "19. Why are dictionaries considered unordered, and how does that affect data retrieval?\n",
        "\n",
        "- Before Python 3.7, dictionaries were unordered, meaning they didn’t keep the order of items. Now, they keep insertion order, but still, data is accessed using keys, not positions. So, we don’t use indexes to retrieve values like in lists."
      ],
      "metadata": {
        "id": "VZq-UIyucW6p"
      }
    },
    {
      "cell_type": "markdown",
      "source": [
        "20. Explain the difference between a list and a dictionary in terms of data retrieval.\n",
        "\n",
        "- In a list, data is retrieved using indexes (positions) like list[0].\n",
        "\n",
        "- In a dictionary, data is retrieved using keys like dict[\"name\"].\n",
        "So, dictionaries are better for storing data with labels, while lists are better for ordered items."
      ],
      "metadata": {
        "id": "2SvLLF2NclsV"
      }
    },
    {
      "cell_type": "markdown",
      "source": [
        "# Practical Questions- Solutions\n",
        "\n",
        "1. Write a code to create a string with your name and print it."
      ],
      "metadata": {
        "id": "PULe-aKSc5L5"
      }
    },
    {
      "cell_type": "code",
      "source": [
        "name = \"Suraj\"\n",
        "print(name)\n"
      ],
      "metadata": {
        "colab": {
          "base_uri": "https://localhost:8080/"
        },
        "id": "_hSjT9yWfOXi",
        "outputId": "a243d1af-29d9-41c3-c161-607a762553de"
      },
      "execution_count": 15,
      "outputs": [
        {
          "output_type": "stream",
          "name": "stdout",
          "text": [
            "Suraj\n"
          ]
        }
      ]
    },
    {
      "cell_type": "markdown",
      "source": [
        "2. Write a code to find the length of the string \"Hello World\"."
      ],
      "metadata": {
        "id": "AEhEyVPhfXiW"
      }
    },
    {
      "cell_type": "code",
      "source": [
        "text = \"Hello World\"\n",
        "print(len(text))\n"
      ],
      "metadata": {
        "colab": {
          "base_uri": "https://localhost:8080/"
        },
        "id": "E9Pn5cBjfcZj",
        "outputId": "bcf4502d-ffb8-4958-90db-e3a0c4363a13"
      },
      "execution_count": 16,
      "outputs": [
        {
          "output_type": "stream",
          "name": "stdout",
          "text": [
            "11\n"
          ]
        }
      ]
    },
    {
      "cell_type": "markdown",
      "source": [
        "3. Write a code to slice the first 3 characters from the string \"Python Programming\"\n"
      ],
      "metadata": {
        "id": "DQg0VemFfq5K"
      }
    },
    {
      "cell_type": "code",
      "source": [
        "my_str = \"Python Programming\"\n",
        "print(my_str[:3])\n"
      ],
      "metadata": {
        "colab": {
          "base_uri": "https://localhost:8080/"
        },
        "id": "PQJCnjq7fwSD",
        "outputId": "a36a88cc-8cad-4856-e0d4-3b70ced2397e"
      },
      "execution_count": 18,
      "outputs": [
        {
          "output_type": "stream",
          "name": "stdout",
          "text": [
            "Pyt\n"
          ]
        }
      ]
    },
    {
      "cell_type": "markdown",
      "source": [
        "4. Write a code to convert the string \"hello\" to uppercase."
      ],
      "metadata": {
        "id": "_ARIwzBef7p2"
      }
    },
    {
      "cell_type": "code",
      "source": [
        "text = \"hello\"\n",
        "print(text.upper())\n"
      ],
      "metadata": {
        "colab": {
          "base_uri": "https://localhost:8080/"
        },
        "id": "m7M-vqr6f-TW",
        "outputId": "7dfed27e-ec64-45f2-e07d-b5182eaad762"
      },
      "execution_count": 19,
      "outputs": [
        {
          "output_type": "stream",
          "name": "stdout",
          "text": [
            "HELLO\n"
          ]
        }
      ]
    },
    {
      "cell_type": "markdown",
      "source": [
        "5. Write a code to replace the word \"apple\" with \"orange\" in the string \"I like apple\""
      ],
      "metadata": {
        "id": "WlQBh5c4gERz"
      }
    },
    {
      "cell_type": "code",
      "source": [
        "sentence = \"I like apple\"\n",
        "new_sentence = sentence.replace(\"apple\", \"orange\")\n",
        "print(new_sentence)\n"
      ],
      "metadata": {
        "colab": {
          "base_uri": "https://localhost:8080/"
        },
        "id": "gdu1TsIkgI0e",
        "outputId": "d5cfe424-0f55-4d96-e2fa-ff23ad3eb5f9"
      },
      "execution_count": 23,
      "outputs": [
        {
          "output_type": "stream",
          "name": "stdout",
          "text": [
            "I like orange\n"
          ]
        }
      ]
    },
    {
      "cell_type": "markdown",
      "source": [
        "6. Write a code to create a list with numbers 1 to 5 and print it."
      ],
      "metadata": {
        "id": "132HG3rqggbP"
      }
    },
    {
      "cell_type": "code",
      "source": [
        "numbers = [1, 2, 3, 4, 5]\n",
        "print(numbers)"
      ],
      "metadata": {
        "colab": {
          "base_uri": "https://localhost:8080/"
        },
        "id": "a1mONnb-jHLA",
        "outputId": "00c53432-32ba-4935-8d4a-9cb0afc4b74d"
      },
      "execution_count": 25,
      "outputs": [
        {
          "output_type": "stream",
          "name": "stdout",
          "text": [
            "[1, 2, 3, 4, 5]\n"
          ]
        }
      ]
    },
    {
      "cell_type": "markdown",
      "source": [
        "7. Write a code to append the number 10 to the list [1, 2, 3, 4]."
      ],
      "metadata": {
        "id": "MPWZPTK7kfrU"
      }
    },
    {
      "cell_type": "code",
      "source": [
        "my_list = [1, 2, 3, 4]\n",
        "my_list.append(10)\n",
        "print(my_list)\n"
      ],
      "metadata": {
        "colab": {
          "base_uri": "https://localhost:8080/"
        },
        "id": "No5HH0-lkhmM",
        "outputId": "91f0cce2-3b6b-4c5f-9758-19adbf755c39"
      },
      "execution_count": 26,
      "outputs": [
        {
          "output_type": "stream",
          "name": "stdout",
          "text": [
            "[1, 2, 3, 4, 10]\n"
          ]
        }
      ]
    },
    {
      "cell_type": "markdown",
      "source": [
        "8. Write a code to remove the number 3 from the list [1, 2, 3, 4, 5]."
      ],
      "metadata": {
        "id": "HaKp05J6km7s"
      }
    },
    {
      "cell_type": "code",
      "source": [
        "my_list = [1, 2, 3, 4, 5]\n",
        "my_list.remove(3)\n",
        "print(my_list)"
      ],
      "metadata": {
        "colab": {
          "base_uri": "https://localhost:8080/"
        },
        "id": "snQ5xF3kks2-",
        "outputId": "0f19bf45-3112-4ea5-e220-f4c2d8358d6a"
      },
      "execution_count": 27,
      "outputs": [
        {
          "output_type": "stream",
          "name": "stdout",
          "text": [
            "[1, 2, 4, 5]\n"
          ]
        }
      ]
    },
    {
      "cell_type": "markdown",
      "source": [
        "9. Write a code to access the second element in the list ['a', 'b', 'c', 'd']."
      ],
      "metadata": {
        "id": "bR7OQDqrkxcA"
      }
    },
    {
      "cell_type": "code",
      "source": [
        "letters = ['a', 'b', 'c', 'd']\n",
        "print(letters[1])  # Output: b\n"
      ],
      "metadata": {
        "colab": {
          "base_uri": "https://localhost:8080/"
        },
        "id": "aNK29rIhk3hJ",
        "outputId": "d4551efb-cd10-4361-983f-30b84d6c81ba"
      },
      "execution_count": 28,
      "outputs": [
        {
          "output_type": "stream",
          "name": "stdout",
          "text": [
            "b\n"
          ]
        }
      ]
    },
    {
      "cell_type": "markdown",
      "source": [
        "10. Write a code to reverse the list [10, 20, 30, 40, 50]."
      ],
      "metadata": {
        "id": "_Y-5T8_plFrd"
      }
    },
    {
      "cell_type": "code",
      "source": [
        "my_list = [10, 20, 30, 40, 50]\n",
        "my_list.reverse()\n",
        "print(my_list)\n"
      ],
      "metadata": {
        "colab": {
          "base_uri": "https://localhost:8080/"
        },
        "id": "5SqvxithlHy9",
        "outputId": "aca17473-f6cf-4545-c393-8e15ad163491"
      },
      "execution_count": 29,
      "outputs": [
        {
          "output_type": "stream",
          "name": "stdout",
          "text": [
            "[50, 40, 30, 20, 10]\n"
          ]
        }
      ]
    },
    {
      "cell_type": "markdown",
      "source": [
        "11. Write a code to create a tuple with the elements 100, 200, 300 and print it."
      ],
      "metadata": {
        "id": "CCPP6vcmneFD"
      }
    },
    {
      "cell_type": "code",
      "source": [
        "my_tuple = (100, 200, 300)\n",
        "print(my_tuple)"
      ],
      "metadata": {
        "colab": {
          "base_uri": "https://localhost:8080/"
        },
        "id": "TCawbdi6ng_W",
        "outputId": "5a735178-63f6-443a-859a-a6b5e0ab1990"
      },
      "execution_count": 30,
      "outputs": [
        {
          "output_type": "stream",
          "name": "stdout",
          "text": [
            "(100, 200, 300)\n"
          ]
        }
      ]
    },
    {
      "cell_type": "markdown",
      "source": [
        "12. Write a code to access the second-to-last element of the tuple ('red', 'green', 'blue', 'yellow')\n"
      ],
      "metadata": {
        "id": "-x6m4xWMnoM9"
      }
    },
    {
      "cell_type": "code",
      "source": [
        "colors = ('red', 'green', 'blue', 'yellow')\n",
        "print(colors[-2])  # Output: blue\n"
      ],
      "metadata": {
        "colab": {
          "base_uri": "https://localhost:8080/"
        },
        "id": "ntXNJ9L3nvX3",
        "outputId": "df0d0ca1-9488-4061-fd36-4b328895fec8"
      },
      "execution_count": 31,
      "outputs": [
        {
          "output_type": "stream",
          "name": "stdout",
          "text": [
            "blue\n"
          ]
        }
      ]
    },
    {
      "cell_type": "markdown",
      "source": [
        "13. Write a code to find the minimum number in the tuple (10, 20, 5, 15)."
      ],
      "metadata": {
        "id": "L5F6DZbGn6rN"
      }
    },
    {
      "cell_type": "code",
      "source": [
        "numbers = (10, 20, 5, 15)\n",
        "print(min(numbers))  # Output: 5\n"
      ],
      "metadata": {
        "colab": {
          "base_uri": "https://localhost:8080/"
        },
        "id": "CLThw7IFn-oc",
        "outputId": "f4f42084-044c-433e-e726-af1542c02be3"
      },
      "execution_count": 33,
      "outputs": [
        {
          "output_type": "stream",
          "name": "stdout",
          "text": [
            "5\n"
          ]
        }
      ]
    },
    {
      "cell_type": "markdown",
      "source": [
        "14. Write a code to find the index of the element \"cat\" in the tuple ('dog', 'cat', 'rabbit')"
      ],
      "metadata": {
        "id": "IYhn78uxoTfZ"
      }
    },
    {
      "cell_type": "code",
      "source": [
        "animals = ('dog', 'cat', 'rabbit')\n",
        "print(animals.index('cat'))  # Output: 1\n"
      ],
      "metadata": {
        "colab": {
          "base_uri": "https://localhost:8080/"
        },
        "id": "Jwy8F54yoX3o",
        "outputId": "7419e204-91ee-4cc1-b9aa-0eed0e783c33"
      },
      "execution_count": 34,
      "outputs": [
        {
          "output_type": "stream",
          "name": "stdout",
          "text": [
            "1\n"
          ]
        }
      ]
    },
    {
      "cell_type": "markdown",
      "source": [
        "15. Write a code to create a tuple containing three different fruits and check if \"kiwi\" is in it."
      ],
      "metadata": {
        "id": "i5Ymalleoj1W"
      }
    },
    {
      "cell_type": "code",
      "source": [
        "fruits = ('apple', 'banana', 'kiwi')\n",
        "print('kiwi' in fruits)  # Output: True\n"
      ],
      "metadata": {
        "colab": {
          "base_uri": "https://localhost:8080/"
        },
        "id": "iwCFlGaForcA",
        "outputId": "3a67bfd6-8eb6-4f1b-eb10-b4417a612f2a"
      },
      "execution_count": 35,
      "outputs": [
        {
          "output_type": "stream",
          "name": "stdout",
          "text": [
            "True\n"
          ]
        }
      ]
    },
    {
      "cell_type": "markdown",
      "source": [
        "16. Write a code to create a set with the elements 'a', 'b', 'c' and print it."
      ],
      "metadata": {
        "id": "GslMtAskoxlO"
      }
    },
    {
      "cell_type": "code",
      "source": [
        "my_set = {'a', 'b', 'c'}\n",
        "print(my_set)\n"
      ],
      "metadata": {
        "colab": {
          "base_uri": "https://localhost:8080/"
        },
        "id": "tQnHNtFco3Uy",
        "outputId": "fe2d8da3-763c-4211-b026-8bd6482f170d"
      },
      "execution_count": 36,
      "outputs": [
        {
          "output_type": "stream",
          "name": "stdout",
          "text": [
            "{'c', 'a', 'b'}\n"
          ]
        }
      ]
    },
    {
      "cell_type": "markdown",
      "source": [
        "17. Write a code to clear all elements from the set {1, 2, 3, 4, 5}."
      ],
      "metadata": {
        "id": "oIY6mB6YpCUS"
      }
    },
    {
      "cell_type": "code",
      "source": [
        "my_set = {1, 2, 3, 4, 5}\n",
        "my_set.clear()\n",
        "print(my_set)  # Output: set()\n"
      ],
      "metadata": {
        "colab": {
          "base_uri": "https://localhost:8080/"
        },
        "id": "mY7IEI9xpEFY",
        "outputId": "5d3f4f22-3ff9-4e5d-fa98-601dc34cfe2c"
      },
      "execution_count": 37,
      "outputs": [
        {
          "output_type": "stream",
          "name": "stdout",
          "text": [
            "set()\n"
          ]
        }
      ]
    },
    {
      "cell_type": "markdown",
      "source": [
        "18. Write a code to remove the element 4 from the set {1, 2, 3, 4}."
      ],
      "metadata": {
        "id": "MQZE9qntpLcI"
      }
    },
    {
      "cell_type": "code",
      "source": [
        "my_set = {1, 2, 3, 4}\n",
        "my_set.remove(4)\n",
        "print(my_set)\n"
      ],
      "metadata": {
        "colab": {
          "base_uri": "https://localhost:8080/"
        },
        "id": "pGupwRkwpNVB",
        "outputId": "df424046-680b-43fd-e816-31e9e06e64c4"
      },
      "execution_count": 38,
      "outputs": [
        {
          "output_type": "stream",
          "name": "stdout",
          "text": [
            "{1, 2, 3}\n"
          ]
        }
      ]
    },
    {
      "cell_type": "markdown",
      "source": [
        "19. Write a code to find the union of two sets {1, 2, 3} and {3, 4, 5}"
      ],
      "metadata": {
        "id": "gaI3MBHbpRRc"
      }
    },
    {
      "cell_type": "code",
      "source": [
        "set1 = {1, 2, 3}\n",
        "set2 = {3, 4, 5}\n",
        "union_set = set1.union(set2)\n",
        "print(union_set)  # Output: {1, 2, 3, 4, 5}\n"
      ],
      "metadata": {
        "colab": {
          "base_uri": "https://localhost:8080/"
        },
        "id": "sdqmshNZpXml",
        "outputId": "e72d2178-f7f2-4c2c-c52e-68b07eddeb6b"
      },
      "execution_count": 39,
      "outputs": [
        {
          "output_type": "stream",
          "name": "stdout",
          "text": [
            "{1, 2, 3, 4, 5}\n"
          ]
        }
      ]
    },
    {
      "cell_type": "markdown",
      "source": [
        "20. Write a code to find the intersection of two sets {1, 2, 3} and {2, 3, 4}."
      ],
      "metadata": {
        "id": "nNPHPph4pa9s"
      }
    },
    {
      "cell_type": "code",
      "source": [
        "set1 = {1, 2, 3}\n",
        "set2 = {2, 3, 4}\n",
        "intersection = set1.intersection(set2)\n",
        "print(intersection)  # Output: {2, 3}\n"
      ],
      "metadata": {
        "colab": {
          "base_uri": "https://localhost:8080/"
        },
        "id": "AmC9hPbTpflc",
        "outputId": "69a9bebe-e99e-4132-d463-ecd4d37de5ea"
      },
      "execution_count": 40,
      "outputs": [
        {
          "output_type": "stream",
          "name": "stdout",
          "text": [
            "{2, 3}\n"
          ]
        }
      ]
    },
    {
      "cell_type": "markdown",
      "source": [
        "21. Write a code to create a dictionary with the keys \"name\", \"age\", and \"city\", and print it."
      ],
      "metadata": {
        "id": "_RoZsBEbsAlx"
      }
    },
    {
      "cell_type": "code",
      "source": [
        "person = {\"name\": \"John\", \"age\": 25, \"city\": \"New York\"}\n",
        "print(person)\n"
      ],
      "metadata": {
        "colab": {
          "base_uri": "https://localhost:8080/"
        },
        "id": "r7tQgdF_sB2T",
        "outputId": "1afe2341-3928-43d2-9ebd-aeaa2a97fc74"
      },
      "execution_count": 41,
      "outputs": [
        {
          "output_type": "stream",
          "name": "stdout",
          "text": [
            "{'name': 'John', 'age': 25, 'city': 'New York'}\n"
          ]
        }
      ]
    },
    {
      "cell_type": "markdown",
      "source": [
        "22. Write a code to add a new key-value pair \"country\": \"USA\" to the dictionary {'name': \"John\", 'age': 25}"
      ],
      "metadata": {
        "id": "aRYi6paksIYX"
      }
    },
    {
      "cell_type": "code",
      "source": [
        "person = {\"name\": \"John\", \"age\": 25}\n",
        "person[\"country\"] = \"USA\"\n",
        "print(person)\n"
      ],
      "metadata": {
        "colab": {
          "base_uri": "https://localhost:8080/"
        },
        "id": "hAb_iqQ_sNE1",
        "outputId": "98478026-9e57-4851-c6a3-f0e6eccaa5dd"
      },
      "execution_count": 42,
      "outputs": [
        {
          "output_type": "stream",
          "name": "stdout",
          "text": [
            "{'name': 'John', 'age': 25, 'country': 'USA'}\n"
          ]
        }
      ]
    },
    {
      "cell_type": "markdown",
      "source": [
        "23. Write a code to access the value associated with the key \"name\" in the dictionary {'name': 'Alice', 'age': 30}"
      ],
      "metadata": {
        "id": "YDIEoZGDsU0Z"
      }
    },
    {
      "cell_type": "code",
      "source": [
        "info = {\"name\": \"Alice\", \"age\": 30}\n",
        "print(info[\"name\"])  # Output: Alice\n"
      ],
      "metadata": {
        "colab": {
          "base_uri": "https://localhost:8080/"
        },
        "id": "LUk5Vyc2samz",
        "outputId": "a54e5727-ae44-4f9b-b080-d8ddac3c69a3"
      },
      "execution_count": 43,
      "outputs": [
        {
          "output_type": "stream",
          "name": "stdout",
          "text": [
            "Alice\n"
          ]
        }
      ]
    },
    {
      "cell_type": "markdown",
      "source": [
        "24. Write a code to remove the key \"age\" from the dictionary {'name': 'Bob', 'age': 22, 'city': 'New York'}."
      ],
      "metadata": {
        "id": "UhQsiN1Pslig"
      }
    },
    {
      "cell_type": "code",
      "source": [
        "person = {\"name\": \"Bob\", \"age\": 22, \"city\": \"New York\"}\n",
        "person.pop(\"age\")\n",
        "print(person)\n"
      ],
      "metadata": {
        "colab": {
          "base_uri": "https://localhost:8080/"
        },
        "id": "c4RoBoJOspOQ",
        "outputId": "e72b644c-77f5-4256-c017-711c1c74dab6"
      },
      "execution_count": 44,
      "outputs": [
        {
          "output_type": "stream",
          "name": "stdout",
          "text": [
            "{'name': 'Bob', 'city': 'New York'}\n"
          ]
        }
      ]
    },
    {
      "cell_type": "markdown",
      "source": [
        "25. Write a code to check if the key \"city\" exists in the dictionary {'name': 'Alice', 'city': 'Paris'}."
      ],
      "metadata": {
        "id": "txH7OPaYsyx0"
      }
    },
    {
      "cell_type": "code",
      "source": [
        "data = {\"name\": \"Alice\", \"city\": \"Paris\"}\n",
        "print(\"city\" in data)  # Output: True\n"
      ],
      "metadata": {
        "colab": {
          "base_uri": "https://localhost:8080/"
        },
        "id": "BRlP_bgYs5VN",
        "outputId": "0a509327-bb5d-4ec7-ed1a-e2de5e09e387"
      },
      "execution_count": 45,
      "outputs": [
        {
          "output_type": "stream",
          "name": "stdout",
          "text": [
            "True\n"
          ]
        }
      ]
    },
    {
      "cell_type": "markdown",
      "source": [
        "26. Write a code to create a list, a tuple, and a dictionary, and print them all."
      ],
      "metadata": {
        "id": "GtZPj0JTs-_g"
      }
    },
    {
      "cell_type": "code",
      "source": [
        "my_list = [1, 2, 3]\n",
        "my_tuple = (\"a\", \"b\", \"c\")\n",
        "my_dict = {\"key\": \"value\"}\n",
        "\n",
        "print(my_list)\n",
        "print(my_tuple)\n",
        "print(my_dict)\n"
      ],
      "metadata": {
        "colab": {
          "base_uri": "https://localhost:8080/"
        },
        "id": "IagA6SrftD_O",
        "outputId": "62b1d13d-d1d4-4d92-cd73-de1334685249"
      },
      "execution_count": 46,
      "outputs": [
        {
          "output_type": "stream",
          "name": "stdout",
          "text": [
            "[1, 2, 3]\n",
            "('a', 'b', 'c')\n",
            "{'key': 'value'}\n"
          ]
        }
      ]
    },
    {
      "cell_type": "markdown",
      "source": [
        "27. Write a code to create a list of 5 random numbers between 1 and 100, sort it in ascending order, and print the result."
      ],
      "metadata": {
        "id": "cy6vwUw5tNGl"
      }
    },
    {
      "cell_type": "code",
      "source": [
        "import random\n",
        "\n",
        "numbers = random.sample(range(1, 101), 5)\n",
        "numbers.sort()\n",
        "print(numbers)\n"
      ],
      "metadata": {
        "colab": {
          "base_uri": "https://localhost:8080/"
        },
        "id": "UYTm77LXtRTi",
        "outputId": "59e25f30-afd0-4ccc-bbae-505baa834d79"
      },
      "execution_count": 47,
      "outputs": [
        {
          "output_type": "stream",
          "name": "stdout",
          "text": [
            "[1, 2, 30, 37, 84]\n"
          ]
        }
      ]
    },
    {
      "cell_type": "markdown",
      "source": [
        "28. Write a code to create a list with strings and print the element at the third index."
      ],
      "metadata": {
        "id": "we6z-GLgtWa1"
      }
    },
    {
      "cell_type": "code",
      "source": [
        "words = [\"apple\", \"banana\", \"cherry\", \"date\", \"fig\"]\n",
        "print(words[3])  # Output: date\n"
      ],
      "metadata": {
        "colab": {
          "base_uri": "https://localhost:8080/"
        },
        "id": "LvJI8SmOtaAO",
        "outputId": "9f7a1256-0b41-49d3-d2ba-15bc730e324d"
      },
      "execution_count": 48,
      "outputs": [
        {
          "output_type": "stream",
          "name": "stdout",
          "text": [
            "date\n"
          ]
        }
      ]
    },
    {
      "cell_type": "markdown",
      "source": [
        "29. Write a code to combine two dictionaries into one and print the result."
      ],
      "metadata": {
        "id": "4ovV76Ehtmnp"
      }
    },
    {
      "cell_type": "code",
      "source": [
        "dict1 = {\"a\": 1, \"b\": 2}\n",
        "dict2 = {\"c\": 3, \"d\": 4}\n",
        "combined = {**dict1, **dict2}\n",
        "print(combined)\n"
      ],
      "metadata": {
        "colab": {
          "base_uri": "https://localhost:8080/"
        },
        "id": "6C9mwuTItpka",
        "outputId": "585cc226-cf6b-4446-c66a-c64f601f2a58"
      },
      "execution_count": 49,
      "outputs": [
        {
          "output_type": "stream",
          "name": "stdout",
          "text": [
            "{'a': 1, 'b': 2, 'c': 3, 'd': 4}\n"
          ]
        }
      ]
    },
    {
      "cell_type": "markdown",
      "source": [
        "30. Write a code to convert a list of strings into a set.\n"
      ],
      "metadata": {
        "id": "I24zVXextt9e"
      }
    },
    {
      "cell_type": "code",
      "source": [
        "fruits = [\"apple\", \"banana\", \"apple\", \"orange\"]\n",
        "fruit_set = set(fruits)\n",
        "print(fruit_set)\n"
      ],
      "metadata": {
        "colab": {
          "base_uri": "https://localhost:8080/"
        },
        "id": "RarAtrUwt0Fl",
        "outputId": "1d78c16e-51a2-4fb3-e9a0-857acaddc841"
      },
      "execution_count": 50,
      "outputs": [
        {
          "output_type": "stream",
          "name": "stdout",
          "text": [
            "{'banana', 'apple', 'orange'}\n"
          ]
        }
      ]
    }
  ]
}