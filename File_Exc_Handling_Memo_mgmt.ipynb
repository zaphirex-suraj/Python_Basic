{
  "nbformat": 4,
  "nbformat_minor": 0,
  "metadata": {
    "colab": {
      "provenance": []
    },
    "kernelspec": {
      "name": "python3",
      "display_name": "Python 3"
    },
    "language_info": {
      "name": "python"
    }
  },
  "cells": [
    {
      "cell_type": "markdown",
      "source": [
        "# Files, exceptional handling, logging and    memory management- Assigment Solutions\n",
        "# Theoritical Questions:-\n",
        "\n",
        "1. What is the difference between interpreted and compiled languages?\n",
        "- Interpreted language runs the code line-by-line, while compiled language converts the entire code into machine language before execution.\n",
        "\n",
        "- Python is an interpreted language.\n",
        "\n",
        "- C/C++ are compiled languages.\n",
        "\n",
        "Example:\n",
        "Python doesn’t require a compilation step:"
      ],
      "metadata": {
        "id": "FOCua7u-lsOm"
      }
    },
    {
      "cell_type": "code",
      "source": [
        "print(\"Hello, World!\")  # runs directly\n"
      ],
      "metadata": {
        "id": "oKumh6D0mZfG"
      },
      "execution_count": null,
      "outputs": []
    },
    {
      "cell_type": "markdown",
      "source": [
        "2. What is exception handling in Python?\n",
        "\n",
        "- Exception handling is used to handle errors that may occur during program execution without crashing the program. It uses try, except, finally blocks.\n",
        "\n",
        "Example:"
      ],
      "metadata": {
        "id": "us39hwilmcdM"
      }
    },
    {
      "cell_type": "code",
      "source": [
        "try:\n",
        "    x = 10 / 0\n",
        "except ZeroDivisionError:\n",
        "    print(\"You can't divide by zero.\")\n"
      ],
      "metadata": {
        "colab": {
          "base_uri": "https://localhost:8080/"
        },
        "id": "wJun5kf-mrHA",
        "outputId": "69d7f7ba-f876-4da2-cb8e-2bd2811633a1"
      },
      "execution_count": 1,
      "outputs": [
        {
          "output_type": "stream",
          "name": "stdout",
          "text": [
            "You can't divide by zero.\n"
          ]
        }
      ]
    },
    {
      "cell_type": "markdown",
      "source": [
        "3. What is the purpose of the finally block in exception handling?\n",
        "\n",
        "- The finally block runs no matter what — whether an exception occurred or not. It’s used for cleanup like closing files or database connections.\n",
        "\n",
        "Example:"
      ],
      "metadata": {
        "id": "YWFtoM2umyIR"
      }
    },
    {
      "cell_type": "code",
      "source": [
        "try:\n",
        "    f = open(\"file.txt\", \"r\")\n",
        "    data = f.read()\n",
        "except FileNotFoundError:\n",
        "    print(\"File not found.\")\n",
        "finally:\n",
        "    print(\"Cleaning up...\")\n"
      ],
      "metadata": {
        "colab": {
          "base_uri": "https://localhost:8080/"
        },
        "id": "XpbJ08E_m_-5",
        "outputId": "9eb339a5-e26a-41a8-b73e-3235860e8fe7"
      },
      "execution_count": 2,
      "outputs": [
        {
          "output_type": "stream",
          "name": "stdout",
          "text": [
            "File not found.\n",
            "Cleaning up...\n"
          ]
        }
      ]
    },
    {
      "cell_type": "markdown",
      "source": [
        "4. What is logging in Python?\n",
        "\n",
        "- Logging is used to track events during program execution. It's useful for debugging or keeping a record of application behavior.\n",
        "\n",
        "Example:"
      ],
      "metadata": {
        "id": "UZDv1IYYnDOL"
      }
    },
    {
      "cell_type": "code",
      "source": [
        "import logging\n",
        "\n",
        "logging.basicConfig(level=logging.INFO)\n",
        "logging.info(\"Program started\")\n"
      ],
      "metadata": {
        "id": "9rT6YwR3nbFj"
      },
      "execution_count": 3,
      "outputs": []
    },
    {
      "cell_type": "markdown",
      "source": [
        "5. What is the significance of the __del__ method in Python?\n",
        "\n",
        "- __del__ is a destructor method. It is called automatically when an object is deleted to clean up resources.\n",
        "\n",
        "Example:"
      ],
      "metadata": {
        "id": "7_-IJF6hniik"
      }
    },
    {
      "cell_type": "code",
      "source": [
        "class MyClass:\n",
        "    def __del__(self):\n",
        "        print(\"Object destroyed\")\n",
        "\n",
        "obj = MyClass()\n",
        "del obj\n"
      ],
      "metadata": {
        "colab": {
          "base_uri": "https://localhost:8080/"
        },
        "id": "bOqWPW3Enshr",
        "outputId": "1d36449e-9bf0-4ab6-f258-ba40e300cc45"
      },
      "execution_count": 4,
      "outputs": [
        {
          "output_type": "stream",
          "name": "stdout",
          "text": [
            "Object destroyed\n"
          ]
        }
      ]
    },
    {
      "cell_type": "markdown",
      "source": [
        "6. What is the difference between import and from ... import in Python?\n",
        "\n",
        "- import module imports the whole module.\n",
        "\n",
        "- from module import something imports specific items from that module.\n",
        "\n",
        "Example:"
      ],
      "metadata": {
        "id": "pi0oZ8lQnzpK"
      }
    },
    {
      "cell_type": "code",
      "source": [
        "import math\n",
        "print(math.sqrt(16))\n",
        "\n",
        "from math import sqrt\n",
        "print(sqrt(16))\n"
      ],
      "metadata": {
        "colab": {
          "base_uri": "https://localhost:8080/"
        },
        "id": "h0MJKqhvoJRQ",
        "outputId": "380df85f-6bba-4f56-9ca4-cccecd0e0ecc"
      },
      "execution_count": 5,
      "outputs": [
        {
          "output_type": "stream",
          "name": "stdout",
          "text": [
            "4.0\n",
            "4.0\n"
          ]
        }
      ]
    },
    {
      "cell_type": "markdown",
      "source": [
        "7. How can you handle multiple exceptions in Python?\n",
        "\n",
        "- Use multiple except blocks or a single except with tuple.\n",
        "\n",
        "Example 1:"
      ],
      "metadata": {
        "id": "avNbCbpnoZHg"
      }
    },
    {
      "cell_type": "code",
      "source": [
        "try:\n",
        "    x = int(\"abc\")\n",
        "except ValueError:\n",
        "    print(\"Invalid value.\")\n",
        "except ZeroDivisionError:\n",
        "    print(\"Division error.\")\n"
      ],
      "metadata": {
        "id": "WJWdBxaNoeIZ"
      },
      "execution_count": null,
      "outputs": []
    },
    {
      "cell_type": "markdown",
      "source": [
        "Example 2:"
      ],
      "metadata": {
        "id": "H2yJ9MRDohA4"
      }
    },
    {
      "cell_type": "code",
      "source": [
        "try:\n",
        "    x = int(\"abc\")\n",
        "except (ValueError, ZeroDivisionError):\n",
        "    print(\"Handled multiple exceptions.\")\n"
      ],
      "metadata": {
        "id": "4d-07V50olEX"
      },
      "execution_count": null,
      "outputs": []
    },
    {
      "cell_type": "markdown",
      "source": [
        "8. What is the purpose of the with statement when handling files in Python?\n",
        "- In Python, the with statement is used to handle files safely and efficiently. It makes sure that the file is automatically closed after its work is done — even if there's an error while reading or writing. This helps in saving memory and avoiding file corruption or locks.\n",
        "\n",
        "✅ Example:"
      ],
      "metadata": {
        "id": "3MK-FKjOotUC"
      }
    },
    {
      "cell_type": "code",
      "source": [
        "# First creating and writing to the file to avoid errors\n",
        "with open(\"sample.txt\", \"w\") as file:\n",
        "    file.write(\"This is a test file.\")\n",
        "\n",
        "# Now reading the same file\n",
        "with open(\"sample.txt\", \"r\") as file:\n",
        "    content = file.read()\n",
        "    print(content)\n"
      ],
      "metadata": {
        "colab": {
          "base_uri": "https://localhost:8080/"
        },
        "id": "-1iH76R7qZDK",
        "outputId": "f4a4e585-2d56-4736-c951-e289670b529f"
      },
      "execution_count": 13,
      "outputs": [
        {
          "output_type": "stream",
          "name": "stdout",
          "text": [
            "This is a test file.\n"
          ]
        }
      ]
    },
    {
      "cell_type": "markdown",
      "source": [
        "9. What is the difference between multithreading and multiprocessing?\n",
        "\n",
        "- Multithreading: Multiple threads run in the same process. Better for I/O-bound tasks.\n",
        "\n",
        "- Multiprocessing: Uses multiple processes. Better for CPU-bound tasks.\n",
        "\n",
        "Example (multithreading):"
      ],
      "metadata": {
        "id": "3LswyKUtqZdf"
      }
    },
    {
      "cell_type": "code",
      "source": [
        "import threading\n",
        "\n",
        "def print_msg():\n",
        "    print(\"Hello from thread!\")\n",
        "\n",
        "t = threading.Thread(target=print_msg)\n",
        "t.start()\n"
      ],
      "metadata": {
        "colab": {
          "base_uri": "https://localhost:8080/"
        },
        "id": "45eXZXWOqlHA",
        "outputId": "0597c7e3-7e54-4672-f499-2934da72f53c"
      },
      "execution_count": 9,
      "outputs": [
        {
          "output_type": "stream",
          "name": "stdout",
          "text": [
            "Hello from thread!\n"
          ]
        }
      ]
    },
    {
      "cell_type": "markdown",
      "source": [
        "10. What are the advantages of using logging in a program?\n",
        "\n",
        "- Helps in debugging and monitoring\n",
        "\n",
        "- Keeps a record of what the program is doing\n",
        "\n",
        "- Can write messages to files\n",
        "\n",
        "- Avoids cluttering code with print statements\n",
        "\n",
        "Example:"
      ],
      "metadata": {
        "id": "AdKratwpq3Le"
      }
    },
    {
      "cell_type": "code",
      "source": [
        "import logging\n",
        "\n",
        "logging.basicConfig(filename='app.log', level=logging.INFO)\n",
        "logging.info(\"This message is stored in the log file.\")\n"
      ],
      "metadata": {
        "id": "K0KOgauOrCpE"
      },
      "execution_count": 11,
      "outputs": []
    },
    {
      "cell_type": "markdown",
      "source": [
        "11. What is memory management in Python?\n",
        "\n",
        "- Python handles memory automatically. It allocates memory to variables and objects when needed and frees it when not needed using garbage collection. So, as a programmer, we don’t usually worry about memory manually.\n",
        "\n",
        "12. What are the basic steps involved in exception handling in Python?\n",
        "\n",
        "- Python uses try, except, else, and finally blocks for handling errors. The try block has the code that may give an error. If an error happens, the except block runs. else runs if there's no error. finally runs no matter what.\n",
        "\n",
        "Example:"
      ],
      "metadata": {
        "id": "zO-i0_kmtKLS"
      }
    },
    {
      "cell_type": "code",
      "source": [
        "try:\n",
        "    x = 5 / 0\n",
        "except ZeroDivisionError:\n",
        "    print(\"You can’t divide by zero!\")\n"
      ],
      "metadata": {
        "colab": {
          "base_uri": "https://localhost:8080/"
        },
        "id": "3xmav7fatWhP",
        "outputId": "b48c4267-9989-48fa-c545-b7fff651e83a"
      },
      "execution_count": 14,
      "outputs": [
        {
          "output_type": "stream",
          "name": "stdout",
          "text": [
            "You can’t divide by zero!\n"
          ]
        }
      ]
    },
    {
      "cell_type": "markdown",
      "source": [
        "13. Why is memory management important in Python?\n",
        "\n",
        "- Good memory management helps Python programs run faster and not crash due to memory overload. It ensures that memory is used efficiently, and unused data is cleared from memory automatically.\n",
        "\n",
        "14. What is the role of try and except in exception handling?\n",
        "\n",
        "- The try block is where we write code that might give an error. If an error occurs, Python jumps to the except block to handle it, so the program doesn’t crash suddenly.\n",
        "\n",
        "15. How does Python's garbage collection system work?\n",
        "\n",
        "- Python has a built-in garbage collector. It finds and deletes objects from memory that are no longer in use. It mainly uses reference counting and cycles detection to manage memory.\n",
        "\n",
        "16. What is the purpose of the else block in exception handling?\n",
        "\n",
        "- The else block runs only if the try block does not raise any error. It’s useful when we want to execute some code only when everything went fine.\n",
        "\n",
        "Example:"
      ],
      "metadata": {
        "id": "xJQvBEQutcxX"
      }
    },
    {
      "cell_type": "code",
      "source": [
        "try:\n",
        "    num = int(\"10\")\n",
        "except ValueError:\n",
        "    print(\"Not a number\")\n",
        "else:\n",
        "    print(\"Conversion successful\")\n"
      ],
      "metadata": {
        "colab": {
          "base_uri": "https://localhost:8080/"
        },
        "id": "XuJg35zZuGOO",
        "outputId": "759be2b8-d44c-4dfc-c68a-29efbbe32af6"
      },
      "execution_count": 15,
      "outputs": [
        {
          "output_type": "stream",
          "name": "stdout",
          "text": [
            "Conversion successful\n"
          ]
        }
      ]
    },
    {
      "cell_type": "markdown",
      "source": [
        "17. What are the common logging levels in Python?\n",
        "\n",
        ">>The common logging levels are:\n",
        "\n",
        "- DEBUG: for detailed information (used during debugging).\n",
        "\n",
        "- INFO: confirms that things are working as expected.\n",
        "\n",
        "- WARNING: shows something unexpected happened, but the program is still running.\n",
        "\n",
        "- ERROR: shows a serious problem.\n",
        "\n",
        "- CRITICAL: a very serious error.\n",
        "\n",
        "18. What is the difference between os.fork() and multiprocessing in Python?\n",
        "\n",
        "- os.fork() creates a new process but works only on Unix/Linux. multiprocessing is a built-in Python module that works across platforms (Windows/Linux/Mac) and is easier to use.\n",
        "\n",
        "19. What is the importance of closing a file in Python?\n",
        "\n",
        "- When we open a file, Python holds system resources. If we don’t close it, it may lead to memory leaks or file lock issues. It's best to use the with statement to handle this automatically.\n",
        "\n",
        "20. What is the difference between file.read() and file.readline() in Python?\n",
        "\n",
        "- file.read() reads the entire content of the file as a single string.\n",
        "\n",
        "- file.readline() reads just one line at a time.\n",
        "\n",
        "Example:\n",
        "\n"
      ],
      "metadata": {
        "id": "4zsVrefvuTLm"
      }
    },
    {
      "cell_type": "code",
      "source": [
        "with open(\"sample.txt\", \"r\") as f:\n",
        "    print(f.read())       # entire file\n",
        "    # or\n",
        "    # print(f.readline())  # just the first line\n"
      ],
      "metadata": {
        "colab": {
          "base_uri": "https://localhost:8080/"
        },
        "id": "FdMHsdEzvOU3",
        "outputId": "02adb518-a60c-48e6-c401-982b61c96722"
      },
      "execution_count": 16,
      "outputs": [
        {
          "output_type": "stream",
          "name": "stdout",
          "text": [
            "This is a test file.\n"
          ]
        }
      ]
    },
    {
      "cell_type": "markdown",
      "source": [
        "21. What is the logging module in Python used for?\n",
        "\n",
        "- The logging module is used to record messages that describe events that happen while a program runs. It helps in debugging and keeping track of program execution, especially when there’s an error. Instead of printing to the console, logs can be saved to a file with different severity levels.\n",
        "\n",
        " Example:"
      ],
      "metadata": {
        "id": "40izuPIhwjtJ"
      }
    },
    {
      "cell_type": "code",
      "source": [
        "import logging\n",
        "\n",
        "logging.basicConfig(level=logging.INFO)\n",
        "logging.info(\"Program started\")\n"
      ],
      "metadata": {
        "id": "nb92-LEPwoFb"
      },
      "execution_count": 17,
      "outputs": []
    },
    {
      "cell_type": "markdown",
      "source": [
        "22. What is the os module in Python used for in file handling?\n",
        "\n",
        "- The os module allows us to interact with the operating system. In file handling, it's used to perform tasks like checking if a file exists, creating folders, changing file names, deleting files, and getting file paths.\n",
        "\n",
        " Example:"
      ],
      "metadata": {
        "id": "P0wz1YTkwt_J"
      }
    },
    {
      "cell_type": "code",
      "source": [
        "import os\n",
        "\n",
        "if os.path.exists(\"sample.txt\"):\n",
        "    os.remove(\"sample.txt\")\n"
      ],
      "metadata": {
        "id": "j1zCp73awxzm"
      },
      "execution_count": 19,
      "outputs": []
    },
    {
      "cell_type": "markdown",
      "source": [
        "23. What are the challenges associated with memory management in Python?\n",
        "\n",
        "- Some common challenges include:\n",
        "\n",
        "1.   Memory leaks: When unused memory isn’t released properly.\n",
        "2.   Circular references: Objects referencing each other can delay garbage collection.\n",
        "3. Managing large data: Using big datasets in memory can cause performance issues.\n",
        "Even though Python has garbage collection, developers still need to be careful with how they manage resources like files and database connections.\n",
        "\n",
        "\n",
        "24. How do you raise an exception manually in Python?\n",
        "\n",
        "- To raise an exception manually, we use the raise keyword followed by the exception we want to throw. This is helpful when we want to stop the program if something goes wrong or a condition isn’t met.\n",
        "\n",
        " Example:\n"
      ],
      "metadata": {
        "id": "SnmKrs6qxT0W"
      }
    },
    {
      "cell_type": "code",
      "source": [
        "age = -5\n",
        "\n",
        "try:\n",
        "    if age < 0:\n",
        "        raise ValueError(\"Age cannot be negative\")\n",
        "except ValueError as e:\n",
        "    print(\"Error:\", e)\n"
      ],
      "metadata": {
        "colab": {
          "base_uri": "https://localhost:8080/"
        },
        "id": "pFpOpE9_yS8S",
        "outputId": "feebd4e4-9714-441c-a96c-289812b02d4f"
      },
      "execution_count": 21,
      "outputs": [
        {
          "output_type": "stream",
          "name": "stdout",
          "text": [
            "Error: Age cannot be negative\n"
          ]
        }
      ]
    },
    {
      "cell_type": "markdown",
      "source": [
        "25. Why is it important to use multithreading in certain applications?\n",
        "\n",
        "- Multithreading is useful when we want a program to do many things at once without waiting. For example, downloading files, handling user input, or running background tasks. It helps improve the responsiveness and speed of programs, especially in I/O-bound tasks (like reading files or network requests).\n",
        "\n",
        "# Practical Questions- Solutions\n",
        "\n",
        "1. How can you open a file for writing in Python and write a string to it?\n",
        "\n",
        "- To open a file for writing, we use \"w\" mode. It will create the file if it doesn't exist or overwrite it if it does."
      ],
      "metadata": {
        "id": "UkyjG7jzyW3b"
      }
    },
    {
      "cell_type": "code",
      "source": [
        "with open(\"myfile.txt\", \"w\") as file:\n",
        "    file.write(\"Hello, this is a sample text.\")\n"
      ],
      "metadata": {
        "id": "Ay1n71p5059e"
      },
      "execution_count": 24,
      "outputs": []
    },
    {
      "cell_type": "markdown",
      "source": [
        "2. Write a Python program to read the contents of a file and print each line."
      ],
      "metadata": {
        "id": "-osLns_q1xL_"
      }
    },
    {
      "cell_type": "code",
      "source": [
        "with open(\"myfile.txt\", \"r\") as file:\n",
        "    for line in file:\n",
        "        print(line.strip())\n"
      ],
      "metadata": {
        "colab": {
          "base_uri": "https://localhost:8080/"
        },
        "id": "_QVPkhex11s4",
        "outputId": "365bb876-e535-4133-aef3-c3683f120507"
      },
      "execution_count": 25,
      "outputs": [
        {
          "output_type": "stream",
          "name": "stdout",
          "text": [
            "Hello, this is a sample text.\n"
          ]
        }
      ]
    },
    {
      "cell_type": "markdown",
      "source": [
        "This reads the file line by line and prints each line after removing newline characters.\n",
        "\n",
        "3. How would you handle a case where the file doesn't exist while trying to open it for reading?\n",
        "\n",
        "- We can use try-except to catch the FileNotFoundError."
      ],
      "metadata": {
        "id": "wzwf3EBI2FrH"
      }
    },
    {
      "cell_type": "code",
      "source": [
        "try:\n",
        "    with open(\"nofile.txt\", \"r\") as file:\n",
        "        print(file.read())\n",
        "except FileNotFoundError:\n",
        "    print(\"File not found! Please check the file name.\")\n"
      ],
      "metadata": {
        "colab": {
          "base_uri": "https://localhost:8080/"
        },
        "id": "tgK1wAUo2gbE",
        "outputId": "c020ad4b-e5f5-4dda-f664-b661a39aa21e"
      },
      "execution_count": 26,
      "outputs": [
        {
          "output_type": "stream",
          "name": "stdout",
          "text": [
            "File not found! Please check the file name.\n"
          ]
        }
      ]
    },
    {
      "cell_type": "markdown",
      "source": [
        "4. Write a Python script that reads from one file and writes its content to another file."
      ],
      "metadata": {
        "id": "X21pEkTg2o9t"
      }
    },
    {
      "cell_type": "code",
      "source": [
        "try:\n",
        "    with open(\"source.txt\", \"r\") as source:\n",
        "        content = source.read()\n",
        "\n",
        "    with open(\"destination.txt\", \"w\") as dest:\n",
        "        dest.write(content)\n",
        "    print(\"File copied successfully.\")\n",
        "except FileNotFoundError:\n",
        "    print(\"Source file not found. Please check the filename and path.\")\n",
        "\n"
      ],
      "metadata": {
        "colab": {
          "base_uri": "https://localhost:8080/"
        },
        "id": "l2uBau5F2stv",
        "outputId": "c72bbc16-b682-4835-da52-1578900a55ff"
      },
      "execution_count": 33,
      "outputs": [
        {
          "output_type": "stream",
          "name": "stdout",
          "text": [
            "Source file not found. Please check the filename and path.\n"
          ]
        }
      ]
    },
    {
      "cell_type": "markdown",
      "source": [
        "5. How would you catch and handle division by zero error in Python?"
      ],
      "metadata": {
        "id": "82Bdg3zD23oQ"
      }
    },
    {
      "cell_type": "code",
      "source": [
        "try:\n",
        "    a = 10\n",
        "    b = 0\n",
        "    result = a / b\n",
        "except ZeroDivisionError:\n",
        "    print(\"Cannot divide by zero.\")\n"
      ],
      "metadata": {
        "colab": {
          "base_uri": "https://localhost:8080/"
        },
        "id": "yJJlCp343DzT",
        "outputId": "e71f4ba6-82b7-4e83-8ffc-e55dea9b460e"
      },
      "execution_count": 28,
      "outputs": [
        {
          "output_type": "stream",
          "name": "stdout",
          "text": [
            "Cannot divide by zero.\n"
          ]
        }
      ]
    },
    {
      "cell_type": "markdown",
      "source": [
        "6. Write a Python program that logs an error message to a log file when a division by zero exception occurs."
      ],
      "metadata": {
        "id": "eeVlWE-n3JiR"
      }
    },
    {
      "cell_type": "code",
      "source": [
        "import logging\n",
        "\n",
        "logging.basicConfig(filename='error.log', level=logging.ERROR)\n",
        "\n",
        "try:\n",
        "    x = 5 / 0\n",
        "except ZeroDivisionError as e:\n",
        "    logging.error(\"Division by zero occurred: %s\", e)\n"
      ],
      "metadata": {
        "colab": {
          "base_uri": "https://localhost:8080/"
        },
        "id": "0OhFQfIK3U5l",
        "outputId": "5d22beb5-1396-4c34-c7e0-f81a0f05e46d"
      },
      "execution_count": 29,
      "outputs": [
        {
          "output_type": "stream",
          "name": "stderr",
          "text": [
            "ERROR:root:Division by zero occurred: division by zero\n"
          ]
        }
      ]
    },
    {
      "cell_type": "markdown",
      "source": [
        "7. How do you log information at different levels (INFO, ERROR, WARNING) in Python using the logging module?"
      ],
      "metadata": {
        "id": "-C6lH53U3zMY"
      }
    },
    {
      "cell_type": "code",
      "source": [
        "import logging\n",
        "\n",
        "logging.basicConfig(level=logging.DEBUG)\n",
        "\n",
        "logging.info(\"This is an info message.\")\n",
        "logging.warning(\"This is a warning message.\")\n",
        "logging.error(\"This is an error message.\")\n"
      ],
      "metadata": {
        "colab": {
          "base_uri": "https://localhost:8080/"
        },
        "id": "zmwO2xmG34nn",
        "outputId": "206ef2d6-2d30-4817-c2ce-407a16349649"
      },
      "execution_count": 30,
      "outputs": [
        {
          "output_type": "stream",
          "name": "stderr",
          "text": [
            "WARNING:root:This is a warning message.\n",
            "ERROR:root:This is an error message.\n"
          ]
        }
      ]
    },
    {
      "cell_type": "markdown",
      "source": [
        "8. Write a program to handle a file opening error using exception handling."
      ],
      "metadata": {
        "id": "6-NLv1_94MP2"
      }
    },
    {
      "cell_type": "code",
      "source": [
        "try:\n",
        "    with open(\"missing.txt\", \"r\") as f:\n",
        "        data = f.read()\n",
        "except FileNotFoundError:\n",
        "    print(\"Oops! File not found.\")\n"
      ],
      "metadata": {
        "colab": {
          "base_uri": "https://localhost:8080/"
        },
        "id": "jSb1qCrQ4Osy",
        "outputId": "16730ad5-c891-40a0-87a4-aa68125fd743"
      },
      "execution_count": 31,
      "outputs": [
        {
          "output_type": "stream",
          "name": "stdout",
          "text": [
            "Oops! File not found.\n"
          ]
        }
      ]
    },
    {
      "cell_type": "markdown",
      "source": [
        "9. How can you read a file line by line and store its content in a list in Python?"
      ],
      "metadata": {
        "id": "_3ucciEs4Q4x"
      }
    },
    {
      "cell_type": "code",
      "source": [
        "try:\n",
        "    with open(\"myfile.txt\", \"r\") as file:\n",
        "        lines = file.readlines()\n",
        "        lines = [line.strip() for line in lines]  # Remove newlines\n",
        "    print(lines)\n",
        "except FileNotFoundError:\n",
        "    print(\"File not found. Please check the file name and path.\")\n",
        "\n"
      ],
      "metadata": {
        "colab": {
          "base_uri": "https://localhost:8080/"
        },
        "id": "KnYSIu-Y4XmA",
        "outputId": "1c968599-28b7-4aa1-d423-013a0be3334b"
      },
      "execution_count": 34,
      "outputs": [
        {
          "output_type": "stream",
          "name": "stdout",
          "text": [
            "['Hello, this is a sample text.']\n"
          ]
        }
      ]
    },
    {
      "cell_type": "markdown",
      "source": [
        "10. How can you append data to an existing file in Python?"
      ],
      "metadata": {
        "id": "qbHI9Iwn5fDc"
      }
    },
    {
      "cell_type": "code",
      "source": [
        "with open(\"myfile.txt\", \"a\") as file:\n",
        "    file.write(\"\\nAdding another line at the end.\")\n"
      ],
      "metadata": {
        "id": "z3u9OkIg5m_q"
      },
      "execution_count": 36,
      "outputs": []
    },
    {
      "cell_type": "markdown",
      "source": [
        "11. Write a Python program that uses a try-except block to handle an error when attempting to access a dictionary key that doesn't exist.\n"
      ],
      "metadata": {
        "id": "oTOoJ9GO6O6j"
      }
    },
    {
      "cell_type": "code",
      "source": [
        "my_dict = {'name': 'Ravi', 'age': 25}\n",
        "\n",
        "try:\n",
        "    print(\"City:\", my_dict['city'])\n",
        "except KeyError:\n",
        "    print(\"Key not found in the dictionary.\")\n"
      ],
      "metadata": {
        "colab": {
          "base_uri": "https://localhost:8080/"
        },
        "id": "xc1KHYDH6VKM",
        "outputId": "b5647a37-b035-4030-9d90-130904d5cc05"
      },
      "execution_count": 37,
      "outputs": [
        {
          "output_type": "stream",
          "name": "stdout",
          "text": [
            "Key not found in the dictionary.\n"
          ]
        }
      ]
    },
    {
      "cell_type": "markdown",
      "source": [
        "12. Write a program that demonstrates using multiple except blocks to handle different types of exceptions.\n"
      ],
      "metadata": {
        "id": "AV4BKhd96bi1"
      }
    },
    {
      "cell_type": "code",
      "source": [
        "try:\n",
        "    num = int(input(\"Enter a number: \"))\n",
        "    result = 10 / num\n",
        "    print(\"Result:\", result)\n",
        "except ZeroDivisionError:\n",
        "    print(\"Can't divide by zero.\")\n",
        "except ValueError:\n",
        "    print(\"Please enter a valid number.\")\n"
      ],
      "metadata": {
        "colab": {
          "base_uri": "https://localhost:8080/"
        },
        "id": "J5z4WrVP6eJO",
        "outputId": "94f6e84f-f80c-4e8f-bcb0-67df95740e85"
      },
      "execution_count": 38,
      "outputs": [
        {
          "output_type": "stream",
          "name": "stdout",
          "text": [
            "Enter a number: 6\n",
            "Result: 1.6666666666666667\n"
          ]
        }
      ]
    },
    {
      "cell_type": "markdown",
      "source": [
        "13. How would you check if a file exists before attempting to read it in Python?\n"
      ],
      "metadata": {
        "id": "KnIT5M1C6rL2"
      }
    },
    {
      "cell_type": "code",
      "source": [
        "import os\n",
        "\n",
        "file_path = \"sample.txt\"\n",
        "\n",
        "if os.path.exists(file_path):\n",
        "    with open(file_path, 'r') as file:\n",
        "        content = file.read()\n",
        "        print(content)\n",
        "else:\n",
        "    print(\"File does not exist.\")\n"
      ],
      "metadata": {
        "colab": {
          "base_uri": "https://localhost:8080/"
        },
        "id": "GrdVM7-W61T7",
        "outputId": "41936434-56a0-41ad-f393-15217957cba8"
      },
      "execution_count": 39,
      "outputs": [
        {
          "output_type": "stream",
          "name": "stdout",
          "text": [
            "File does not exist.\n"
          ]
        }
      ]
    },
    {
      "cell_type": "markdown",
      "source": [
        "14. Write a program that uses the logging module to log both informational and error messages."
      ],
      "metadata": {
        "id": "VO_cdARX6-gZ"
      }
    },
    {
      "cell_type": "code",
      "source": [
        "import logging\n",
        "\n",
        "logging.basicConfig(filename='logfile.log', level=logging.DEBUG)\n",
        "\n",
        "logging.info(\"This is an informational message.\")\n",
        "try:\n",
        "    x = 1 / 0\n",
        "except ZeroDivisionError:\n",
        "    logging.error(\"Attempted to divide by zero.\")\n"
      ],
      "metadata": {
        "colab": {
          "base_uri": "https://localhost:8080/"
        },
        "id": "-oh-LBc17FGJ",
        "outputId": "d9159aa3-3059-4220-b453-3f7d909c6331"
      },
      "execution_count": 40,
      "outputs": [
        {
          "output_type": "stream",
          "name": "stderr",
          "text": [
            "ERROR:root:Attempted to divide by zero.\n"
          ]
        }
      ]
    },
    {
      "cell_type": "markdown",
      "source": [
        "15. Write a Python program that prints the content of a file and handles the case when the file is empty.\n"
      ],
      "metadata": {
        "id": "a_y1BusL7Kgk"
      }
    },
    {
      "cell_type": "code",
      "source": [
        "file_path = \"sample.txt\"\n",
        "\n",
        "try:\n",
        "    with open(file_path, 'r') as file:\n",
        "        content = file.read()\n",
        "        if content:\n",
        "            print(content)\n",
        "        else:\n",
        "            print(\"The file is empty.\")\n",
        "except FileNotFoundError:\n",
        "    print(\"File not found.\")\n"
      ],
      "metadata": {
        "colab": {
          "base_uri": "https://localhost:8080/"
        },
        "id": "5co0fO0B7Pn1",
        "outputId": "f8c4c899-5482-45ef-ce59-8230b810f617"
      },
      "execution_count": 41,
      "outputs": [
        {
          "output_type": "stream",
          "name": "stdout",
          "text": [
            "File not found.\n"
          ]
        }
      ]
    },
    {
      "cell_type": "markdown",
      "source": [
        "16. Demonstrate how to use memory profiling to check the memory usage of a small program.\n",
        "\n",
        ">>Install first using:\n",
        " - pip install memory-profiler\n"
      ],
      "metadata": {
        "id": "3WXm-shX7c9R"
      }
    },
    {
      "cell_type": "code",
      "source": [
        "import tracemalloc\n",
        "\n",
        "def my_program():\n",
        "    tracemalloc.start()\n",
        "\n",
        "    numbers = [i for i in range(100000)]\n",
        "    total = sum(numbers)\n",
        "\n",
        "    current, peak = tracemalloc.get_traced_memory()\n",
        "    print(f\"Current memory: {current / 1024:.2f} KB\")\n",
        "    print(f\"Peak memory: {peak / 1024:.2f} KB\")\n",
        "\n",
        "    tracemalloc.stop()\n",
        "\n",
        "my_program()\n",
        "\n",
        "\n"
      ],
      "metadata": {
        "colab": {
          "base_uri": "https://localhost:8080/"
        },
        "id": "1oR6qDRt77aS",
        "outputId": "569b8f43-5120-4595-d3e0-589e550631d8"
      },
      "execution_count": 44,
      "outputs": [
        {
          "output_type": "stream",
          "name": "stdout",
          "text": [
            "Current memory: 3907.71 KB\n",
            "Peak memory: 3908.05 KB\n"
          ]
        }
      ]
    },
    {
      "cell_type": "markdown",
      "source": [
        "17. Write a Python program to create and write a list of numbers to a file, one number per line.\n"
      ],
      "metadata": {
        "id": "mZKPvPLI7qz4"
      }
    },
    {
      "cell_type": "code",
      "source": [
        "# Writing numbers to a file\n",
        "numbers = [1, 2, 3, 4, 5]\n",
        "\n",
        "with open(\"numbers.txt\", \"w\") as file:\n",
        "    for num in numbers:\n",
        "        file.write(str(num) + \"\\n\")\n",
        "\n",
        "print(\"Numbers written to file successfully!\")\n",
        "\n",
        "# Reading back the content to check\n",
        "with open(\"numbers.txt\", \"r\") as file:\n",
        "    content = file.read()\n",
        "\n",
        "print(\"File content:\")\n",
        "print(content)\n",
        "\n"
      ],
      "metadata": {
        "colab": {
          "base_uri": "https://localhost:8080/"
        },
        "id": "WSOFR27c9a-G",
        "outputId": "285fdbb9-ce86-4841-9735-2e59709b339c"
      },
      "execution_count": 48,
      "outputs": [
        {
          "output_type": "stream",
          "name": "stdout",
          "text": [
            "Numbers written to file successfully!\n",
            "File content:\n",
            "1\n",
            "2\n",
            "3\n",
            "4\n",
            "5\n",
            "\n"
          ]
        }
      ]
    },
    {
      "cell_type": "markdown",
      "source": [
        "18. How would you implement a basic logging setup that logs to a file with rotation after IMB?\n"
      ],
      "metadata": {
        "id": "LjlKQqY192RS"
      }
    },
    {
      "cell_type": "code",
      "source": [
        "import logging\n",
        "from logging.handlers import RotatingFileHandler\n",
        "\n",
        "logger = logging.getLogger('MyLogger')\n",
        "logger.setLevel(logging.DEBUG)\n",
        "\n",
        "handler = RotatingFileHandler('app.log', maxBytes=1048576, backupCount=2)\n",
        "logger.addHandler(handler)\n",
        "\n",
        "logger.info(\"This is a test log message.\")\n"
      ],
      "metadata": {
        "colab": {
          "base_uri": "https://localhost:8080/"
        },
        "id": "O2FD1H-L9-dZ",
        "outputId": "83f8bca1-ce0a-401e-8ce0-c9d6a17bba46"
      },
      "execution_count": 49,
      "outputs": [
        {
          "output_type": "stream",
          "name": "stderr",
          "text": [
            "INFO:MyLogger:This is a test log message.\n"
          ]
        }
      ]
    },
    {
      "cell_type": "markdown",
      "source": [
        "19. Write a program that handles both IndexError and KeyError using a try-except block.\n"
      ],
      "metadata": {
        "id": "1UBwCU0n-Dru"
      }
    },
    {
      "cell_type": "code",
      "source": [
        "data = [1, 2, 3]\n",
        "person = {'name': 'Anil'}\n",
        "\n",
        "try:\n",
        "    print(data[5])\n",
        "    print(person['age'])\n",
        "except IndexError:\n",
        "    print(\"Index out of range.\")\n",
        "except KeyError:\n",
        "    print(\"Key not found in dictionary.\")\n"
      ],
      "metadata": {
        "colab": {
          "base_uri": "https://localhost:8080/"
        },
        "id": "AfPJu43E-QjE",
        "outputId": "a171a28b-386f-4134-d09c-07c2a4c8fb6d"
      },
      "execution_count": 50,
      "outputs": [
        {
          "output_type": "stream",
          "name": "stdout",
          "text": [
            "Index out of range.\n"
          ]
        }
      ]
    },
    {
      "cell_type": "markdown",
      "source": [
        "20. How would you open a file and read its contents using a context manager in Python?"
      ],
      "metadata": {
        "id": "w8ToDv4K-VQf"
      }
    },
    {
      "cell_type": "code",
      "source": [
        "file_path = \"data.txt\"\n",
        "\n",
        "try:\n",
        "    with open(file_path, 'r') as file:\n",
        "        for line in file:\n",
        "            print(line.strip())\n",
        "except FileNotFoundError:\n",
        "    print(\"The file does not exist.\")\n"
      ],
      "metadata": {
        "colab": {
          "base_uri": "https://localhost:8080/"
        },
        "id": "9LNRu70t-b_q",
        "outputId": "28bed8be-1cc1-46d2-f2c0-d39796b9a469"
      },
      "execution_count": 51,
      "outputs": [
        {
          "output_type": "stream",
          "name": "stdout",
          "text": [
            "The file does not exist.\n"
          ]
        }
      ]
    },
    {
      "cell_type": "markdown",
      "source": [
        "21. Write a Python program that reads a file and prints the number of occurrences of a specific word.\n"
      ],
      "metadata": {
        "id": "X8l4EI0r-hLy"
      }
    },
    {
      "cell_type": "code",
      "source": [
        "# Let's say we want to count the word \"python\" in a file\n",
        "def count_word_occurrences(filename, word):\n",
        "    try:\n",
        "        with open(filename, 'r') as file:\n",
        "            content = file.read().lower()\n",
        "            count = content.count(word.lower())\n",
        "            print(f\"The word '{word}' occurred {count} times.\")\n",
        "    except FileNotFoundError:\n",
        "        print(\"File not found. Please check the filename.\")\n",
        "\n",
        "# Example usage\n",
        "count_word_occurrences(\"sample.txt\", \"python\")\n"
      ],
      "metadata": {
        "colab": {
          "base_uri": "https://localhost:8080/"
        },
        "id": "lhQxQ_gZ-yRQ",
        "outputId": "a82602e9-acc1-46b8-ce13-c5565a196873"
      },
      "execution_count": 52,
      "outputs": [
        {
          "output_type": "stream",
          "name": "stdout",
          "text": [
            "File not found. Please check the filename.\n"
          ]
        }
      ]
    },
    {
      "cell_type": "markdown",
      "source": [
        "22. How can you check if a file is empty before attempting to read its contents?\n"
      ],
      "metadata": {
        "id": "a_oX56xk-3N6"
      }
    },
    {
      "cell_type": "code",
      "source": [
        "import os\n",
        "\n",
        "def check_file_empty(filename):\n",
        "    if os.path.exists(filename):\n",
        "        if os.path.getsize(filename) == 0:\n",
        "            print(\"The file is empty.\")\n",
        "        else:\n",
        "            print(\"The file has content.\")\n",
        "    else:\n",
        "        print(\"File does not exist.\")\n",
        "\n",
        "# Example usage\n",
        "check_file_empty(\"sample.txt\")\n"
      ],
      "metadata": {
        "colab": {
          "base_uri": "https://localhost:8080/"
        },
        "id": "K2UtFHSw-8bT",
        "outputId": "f642e2e4-fc40-451b-ac21-42e004bf19c4"
      },
      "execution_count": 53,
      "outputs": [
        {
          "output_type": "stream",
          "name": "stdout",
          "text": [
            "File does not exist.\n"
          ]
        }
      ]
    },
    {
      "cell_type": "markdown",
      "source": [
        "23. Write a Python program that writes to a log file when an error occurs during file handling."
      ],
      "metadata": {
        "id": "HRrkHDYT_DTs"
      }
    },
    {
      "cell_type": "code",
      "source": [
        "import logging\n",
        "\n",
        "# Set up logging\n",
        "logging.basicConfig(filename=\"file_errors.log\", level=logging.ERROR)\n",
        "\n",
        "def read_file_safely(filename):\n",
        "    try:\n",
        "        with open(filename, 'r') as file:\n",
        "            print(file.read())\n",
        "    except FileNotFoundError as e:\n",
        "        logging.error(f\"Error occurred while opening file: {e}\")\n",
        "        print(\"Something went wrong, check the log file.\")\n",
        "\n",
        "# Example usage\n",
        "read_file_safely(\"not_exist.txt\")\n"
      ],
      "metadata": {
        "colab": {
          "base_uri": "https://localhost:8080/"
        },
        "id": "iv0mWvuq_IYl",
        "outputId": "de9a6161-7742-4b34-c793-773f6b416a7f"
      },
      "execution_count": 54,
      "outputs": [
        {
          "output_type": "stream",
          "name": "stderr",
          "text": [
            "ERROR:root:Error occurred while opening file: [Errno 2] No such file or directory: 'not_exist.txt'\n"
          ]
        },
        {
          "output_type": "stream",
          "name": "stdout",
          "text": [
            "Something went wrong, check the log file.\n"
          ]
        }
      ]
    }
  ]
}